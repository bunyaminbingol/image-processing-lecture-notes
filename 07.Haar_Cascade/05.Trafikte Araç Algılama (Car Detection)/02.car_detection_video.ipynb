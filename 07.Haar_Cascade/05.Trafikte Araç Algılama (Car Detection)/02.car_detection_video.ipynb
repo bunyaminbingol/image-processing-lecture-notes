{
 "cells": [
  {
   "cell_type": "code",
   "execution_count": 1,
   "metadata": {},
   "outputs": [],
   "source": [
    "import cv2\n",
    "\n",
    "vid = cv2.VideoCapture('veriler/car.mp4')\n",
    "car_cascade = cv2.CascadeClassifier('veriler/car.xml')\n",
    "\n",
    "while True:\n",
    "    ret,frame = vid.read()\n",
    "    frame = cv2.resize(frame, (640,480))\n",
    "    gray = cv2.cvtColor(frame, cv2.COLOR_BGR2GRAY)\n",
    "    cars = car_cascade.detectMultiScale(gray,1.1,2)\n",
    "\n",
    "    for (x,y,w,h) in cars:\n",
    "        cv2.rectangle(frame,(x,y),(x+w,y+h),(0,0,255),3)\n",
    "    \n",
    "    cv2.imshow('image',frame)\n",
    "\n",
    "    if cv2.waitKey(5) & 0xFF == ord('q'):\n",
    "        break\n",
    "    \n",
    "vid.release()\n",
    "cv2.destroyAllWindows()"
   ]
  },
  {
   "cell_type": "code",
   "execution_count": null,
   "metadata": {},
   "outputs": [],
   "source": []
  }
 ],
 "metadata": {
  "kernelspec": {
   "display_name": "Python 3",
   "language": "python",
   "name": "python3"
  },
  "language_info": {
   "codemirror_mode": {
    "name": "ipython",
    "version": 3
   },
   "file_extension": ".py",
   "mimetype": "text/x-python",
   "name": "python",
   "nbconvert_exporter": "python",
   "pygments_lexer": "ipython3",
   "version": "3.7.10"
  },
  "toc": {
   "base_numbering": 1,
   "nav_menu": {},
   "number_sections": true,
   "sideBar": true,
   "skip_h1_title": false,
   "title_cell": "Table of Contents",
   "title_sidebar": "Contents",
   "toc_cell": false,
   "toc_position": {},
   "toc_section_display": true,
   "toc_window_display": false
  }
 },
 "nbformat": 4,
 "nbformat_minor": 4
}
