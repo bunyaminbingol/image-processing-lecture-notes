{
 "cells": [
  {
   "cell_type": "code",
   "execution_count": 1,
   "metadata": {},
   "outputs": [],
   "source": [
    "import cv2\n",
    "\n",
    "img = cv2.imread('veriler/smile.jpg')\n",
    "\n",
    "smile_cascade = cv2.CascadeClassifier('../01.haarcascades/haarcascade_frontalface_alt.xml')\n",
    "face_cascade = cv2.CascadeClassifier('../01.haarcascades/haarcascade_smile.xml')\n",
    "\n",
    "gray = cv2.cvtColor(img, cv2.COLOR_BGR2GRAY)\n",
    "faces = face_cascade.detectMultiScale(gray,1.3,5)\n",
    "\n",
    "for (x,y,w,h) in faces:\n",
    "\n",
    "    cv2.rectangle(img,(x,y),(x+w,y+h),(0,0,255),2)\n",
    "    roi_gray = gray[x:x+w,y:y+h] \n",
    "    roi_img = img[x:x+w,y:y+h]\n",
    "\n",
    "    smiles = smile_cascade.detectMultiScale(roi_gray,1.3,5)\n",
    "    for (ex,ey,ew,eh) in smiles:\n",
    "        cv2.rectangle(roi_img,(ex,ey),(ex+ew,ey+eh),(0,255,0),2)\n",
    "\n",
    "    cv2.imshow('image',img)\n",
    "\n",
    "cv2.waitKey(0)\n",
    "cv2.destroyAllWindows()   "
   ]
  },
  {
   "cell_type": "code",
   "execution_count": null,
   "metadata": {},
   "outputs": [],
   "source": []
  }
 ],
 "metadata": {
  "kernelspec": {
   "display_name": "Python 3",
   "language": "python",
   "name": "python3"
  },
  "language_info": {
   "codemirror_mode": {
    "name": "ipython",
    "version": 3
   },
   "file_extension": ".py",
   "mimetype": "text/x-python",
   "name": "python",
   "nbconvert_exporter": "python",
   "pygments_lexer": "ipython3",
   "version": "3.7.10"
  },
  "toc": {
   "base_numbering": 1,
   "nav_menu": {},
   "number_sections": true,
   "sideBar": true,
   "skip_h1_title": false,
   "title_cell": "Table of Contents",
   "title_sidebar": "Contents",
   "toc_cell": false,
   "toc_position": {},
   "toc_section_display": true,
   "toc_window_display": false
  }
 },
 "nbformat": 4,
 "nbformat_minor": 4
}
