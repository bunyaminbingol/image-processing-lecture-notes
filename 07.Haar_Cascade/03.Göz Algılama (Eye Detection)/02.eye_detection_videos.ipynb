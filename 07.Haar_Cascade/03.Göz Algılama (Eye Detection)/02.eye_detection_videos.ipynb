{
 "cells": [
  {
   "cell_type": "code",
   "execution_count": 1,
   "metadata": {},
   "outputs": [],
   "source": [
    "import cv2   \n",
    "\n",
    "vid = cv2.VideoCapture(\"veriler/eye.mp4\")\n",
    "\n",
    "# 3. Kullanacağımız cascade dosyalarını çalışmamıza dahil edelim.\n",
    "face_cascade = cv2.CascadeClassifier(\"../01.haarcascades/haarcascade_frontalface_alt.xml\")\n",
    "eye_cascade = cv2.CascadeClassifier(\"../01.haarcascades/haarcascade_eye.xml\")\n",
    "\n",
    "#4. Sonsuz bir döngü ile her kareyi(frame) tek tek inceleyelim.\n",
    "while 1:\n",
    "    # 5. Her kareyi tek tek okuyalım.\n",
    "    ret, frame = vid.read()\n",
    "    frame = cv2.resize(frame,(480,360))\n",
    "    \n",
    "    # 6. Haar-like özellikleri kolay algılayabilmek için her bir kareyi boz(gri) tonlara çevirelim.\n",
    "    gray = cv2.cvtColor(frame, cv2.COLOR_BGR2GRAY)\n",
    "    \n",
    "    # 7. Şimdi de cascade dosyamızı kullanarak her bir kare üzerindeki yüzlerin koordinarlarını bulalım.\n",
    "    faces = face_cascade.detectMultiScale(gray)\n",
    "\n",
    "    # 7. \"faces\" değişkeninde tuttuğumuz koordinatları kullanarak yüzleri dikdörtgen içerisine alalım.\n",
    "    for (x,y,w,h) in faces:\n",
    "        cv2.rectangle(frame,(x,y),(x+w,y+h),(0,255,0),2)\n",
    "\n",
    "    # Şimdi de, bulduğum yüzler içinde göz arayacağım.\n",
    "    roi_gray = gray[y:y+h, x:x+w]\n",
    "    roi_frame = frame[y:y+h, x:x+w]\n",
    "\n",
    "    # eye cascade dosyasını kullanarak gözlerin koordinatlarını bulalım.\n",
    "    eyes = eye_cascade.detectMultiScale(roi_gray)\n",
    "\n",
    "    # bu koordinatlara dikdörtgen çizelim.\n",
    "    for (ex,ey,ew,eh) in eyes:\n",
    "        cv2.rectangle(roi_frame,(ex,ey),(ex+ew,ey+eh),(0,0,255),2)\n",
    "         \n",
    "    # 8. İşlediğimiz kareleri görelim.\n",
    "    cv2.imshow('video',frame)\n",
    "\n",
    "    # 9. Programı kapatacak kodu yazalım.\n",
    "    if cv2.waitKey(5) & 0xFF == ord('q'):\n",
    "        break\n",
    "\n",
    "# 10. Son olarak videoyu serbest bırakalım.\n",
    "vid.release()\n",
    "cv2.destroyAllWindows()"
   ]
  },
  {
   "cell_type": "code",
   "execution_count": null,
   "metadata": {},
   "outputs": [],
   "source": []
  }
 ],
 "metadata": {
  "kernelspec": {
   "display_name": "Python 3",
   "language": "python",
   "name": "python3"
  },
  "language_info": {
   "codemirror_mode": {
    "name": "ipython",
    "version": 3
   },
   "file_extension": ".py",
   "mimetype": "text/x-python",
   "name": "python",
   "nbconvert_exporter": "python",
   "pygments_lexer": "ipython3",
   "version": "3.7.10"
  },
  "toc": {
   "base_numbering": 1,
   "nav_menu": {},
   "number_sections": true,
   "sideBar": true,
   "skip_h1_title": false,
   "title_cell": "Table of Contents",
   "title_sidebar": "Contents",
   "toc_cell": false,
   "toc_position": {},
   "toc_section_display": true,
   "toc_window_display": false
  }
 },
 "nbformat": 4,
 "nbformat_minor": 4
}
