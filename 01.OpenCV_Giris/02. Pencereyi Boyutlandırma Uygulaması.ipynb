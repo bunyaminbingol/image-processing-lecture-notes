{
 "cells": [
  {
   "cell_type": "code",
   "execution_count": 2,
   "metadata": {},
   "outputs": [],
   "source": [
    "import cv2\n",
    "\n",
    "cv2.namedWindow(\"klon\") \n",
    "img = cv2.imread(\"veriler/klon.jpg\")\n",
    "\n",
    "img  = cv2.resize(img, (640,480)) # bu fonksiyon ile resmi istediğim boyutlarda ekrana getirebiliyorum.\n",
    "\n",
    "cv2.imshow(\"klon\", img) \n",
    "cv2.waitKey(0) \n",
    "cv2.destroyAllWindows()"
   ]
  },
  {
   "cell_type": "code",
   "execution_count": 3,
   "metadata": {},
   "outputs": [],
   "source": [
    "# En - Boy oranlarını dikkate alarak resmi yeniden boyutlandırma\n",
    "\n",
    "def resizewithAspectRatio(img, width = None, height = None, inter = cv2.INTER_AREA): # İnter_area çakışmalarıo önlemek için kullandığımız bir fonksiyon.\n",
    "    \n",
    "    dimension = None\n",
    "    (h,w) = img.shape[:2] # Resimlerin boyutlarına shape komutu ile ulaşıyoruz.\n",
    "    \n",
    "    if width is None and height is None: #fonksiyonun içerisine eğer en ve boy değerleri girilmez ise resmin aynısını dönderiyor olsun.\n",
    "        return img  # İlk başta aldığın resmi döndür.\n",
    "    \n",
    "    if width is None: # Eğer kullanıcı sadece en değerini girmez ise bu aşamada girdiği boy değerine uygun bir boyutlandırma hesabı yapalım. \n",
    "        r = height / float(h) # Kullanıcın verdiği boy değeri / resmin orjinalindeki boy değeri\n",
    "        dimension = (int(w*r), height) # yeni olşturduğumuz en ve boy değerini dimension(boy) değişkenine atıyorum.\n",
    "        \n",
    "    else: # Eğer kullanıcı sadece boy değerini girmez ise bu aşamada girdiği en değerine uygun bir boyutlandırma hesabı yapalım. \n",
    "        r = width / float(w)\n",
    "        dimension = (width, int(r*h))\n",
    "        \n",
    "    return cv2.resize(img, dimension, interpolation = inter)"
   ]
  },
  {
   "cell_type": "code",
   "execution_count": 4,
   "metadata": {},
   "outputs": [],
   "source": [
    "img = cv2.imread(\"veriler/klon.jpg\")\n",
    "img1 = resizewithAspectRatio(img, width = None, height = 600, inter = cv2.INTER_AREA)\n",
    "\n",
    "cv2.imshow(\"Original\", img)\n",
    "cv2.imshow(\"Resized\", img1)\n",
    "\n",
    "cv2.waitKey(0)\n",
    "cv2.destroyAllWindows()"
   ]
  },
  {
   "cell_type": "code",
   "execution_count": null,
   "metadata": {},
   "outputs": [],
   "source": []
  }
 ],
 "metadata": {
  "kernelspec": {
   "display_name": "Python 3",
   "language": "python",
   "name": "python3"
  },
  "language_info": {
   "codemirror_mode": {
    "name": "ipython",
    "version": 3
   },
   "file_extension": ".py",
   "mimetype": "text/x-python",
   "name": "python",
   "nbconvert_exporter": "python",
   "pygments_lexer": "ipython3",
   "version": "3.7.4"
  },
  "toc": {
   "base_numbering": 1,
   "nav_menu": {},
   "number_sections": true,
   "sideBar": true,
   "skip_h1_title": false,
   "title_cell": "Table of Contents",
   "title_sidebar": "Contents",
   "toc_cell": false,
   "toc_position": {},
   "toc_section_display": true,
   "toc_window_display": false
  }
 },
 "nbformat": 4,
 "nbformat_minor": 4
}
