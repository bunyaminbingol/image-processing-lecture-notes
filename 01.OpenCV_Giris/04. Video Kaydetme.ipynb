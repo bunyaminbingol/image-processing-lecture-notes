{
 "cells": [
  {
   "cell_type": "raw",
   "metadata": {},
   "source": [
    "Burada yapacağımız şey, tek tek aldığımız kareleri arka arkaya getirip birleştirerek bir dosya haline getirip kaydetmek."
   ]
  },
  {
   "cell_type": "code",
   "execution_count": 3,
   "metadata": {},
   "outputs": [],
   "source": [
    "import cv2\n",
    "\n",
    "cap = cv2.VideoCapture(0) \n",
    "\n",
    "filename = \"veriler/webcam.avi\"\n",
    "codec = cv2.VideoWriter_fourcc(\"W\",\"M\",\"V\",\"2\") # bu fonksiyon media verilerineki codecleri 4 karakter ile tanımlarlar. \".avi\" uzantısı için bu 4 karakteri giriyorum.\n",
    "frameRate = 30\n",
    "resolution = (640,480) # Çözünürlük değerim\n",
    "\n",
    "video_file_output = cv2.VideoWriter(filename, codec, frameRate, resolution) # Video dediğimiz ses ve görüntüden oluşur, \"codec\" dediğimiz kod çözücüler video oluşturma algoritmalarını tanırlar dolayısıyla videoyu doğru kaydedebilmek için codej değerini girmem gerekiyor.\n",
    "\n",
    "while True: \n",
    "    ret, frame = cap.read() \n",
    "    frame = cv2.flip(frame, 1) \n",
    "    video_file_output.write(frame)\n",
    "    \n",
    "    cv2.imshow(\"Webcam Live\", frame) \n",
    "    if cv2.waitKey(30) & 0xFF == ord(\"q\"): \n",
    "        break \n",
    "\n",
    "video_file_output.release()  # Videoları işledikten sonra serbest bırakmamız lazım\n",
    "cap.release() \n",
    "cv2.destroyAllWindows()"
   ]
  },
  {
   "cell_type": "code",
   "execution_count": null,
   "metadata": {},
   "outputs": [],
   "source": []
  }
 ],
 "metadata": {
  "kernelspec": {
   "display_name": "Python 3",
   "language": "python",
   "name": "python3"
  },
  "language_info": {
   "codemirror_mode": {
    "name": "ipython",
    "version": 3
   },
   "file_extension": ".py",
   "mimetype": "text/x-python",
   "name": "python",
   "nbconvert_exporter": "python",
   "pygments_lexer": "ipython3",
   "version": "3.7.4"
  },
  "toc": {
   "base_numbering": 1,
   "nav_menu": {},
   "number_sections": true,
   "sideBar": true,
   "skip_h1_title": false,
   "title_cell": "Table of Contents",
   "title_sidebar": "Contents",
   "toc_cell": false,
   "toc_position": {},
   "toc_section_display": true,
   "toc_window_display": false
  }
 },
 "nbformat": 4,
 "nbformat_minor": 4
}
