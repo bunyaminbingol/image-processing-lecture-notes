{
 "cells": [
  {
   "cell_type": "code",
   "execution_count": 1,
   "metadata": {},
   "outputs": [],
   "source": [
    "import cv2"
   ]
  },
  {
   "cell_type": "code",
   "execution_count": 5,
   "metadata": {},
   "outputs": [],
   "source": [
    "# Wabcam'den video okuma ve izleme\n",
    "\n",
    "# Bu fonksiyona gireceğimiz parametre ile videoyu webcam'den mi \n",
    "# yoksa hazırda bulunan bir videodan mı yakalamak istediğimizi belirteceğiz.\n",
    "# Eğer webcam'den okuyacaksak \"0\" değerini gireriz, başka kamerayı kullanacaksak sırasıyla 1, 2 .. değerlerini gireriz.\n",
    "# Bilgisayarımızda bulunan bir video gireceksek bilgisayarımızda bulunan videonun adresini gireriz.\n",
    "\n",
    "cap = cv2.VideoCapture(0) \n",
    "\n",
    "# Videoları bir bütün olarak okuyup göstermek için bir sonsuz döngü oluşturuyoruz.\n",
    "# Videoların karelerini tek tek okuyarak ekrana gösteriyoruz.\n",
    "\n",
    "while True: \n",
    "    ret, frame = cap.read() # Bu fonksiyon iki değer döndürür, ilki videoları doğru okuduysa \"True\" yanlış okuduysa \"False\" değerini döndürür, ikincisi de framler yani karelerdir.\n",
    "    frame = cv2.flip(frame, 1) # Burada görüntü aynalanmış gibi gözükecektir bunun için her bir aldığımız kareyi ters çevirmem lazım. \"1\" değeri y ekseninde aynalama yapıyor gibi düşünebiliriz.\n",
    "    cv2.imshow(\"Webcam\", frame) # While döndükçe kareleri okuyup ekranda göstereceğim.\n",
    "    \n",
    "    if cv2.waitKey(30) & 0xFF == ord(\"q\"): # Her bir frame 30 ms ekranda gözükecek, buradaki değeri ne kadar düşürürsek frameler ekranda o kadar kısa gözükecektir.\n",
    "        break # Videolarım q harfine bastığımda kendiliğinden kapanır.\n",
    "\n",
    "cap.release() # Ben video dosyası üzerinde başka işlemler yapacaksam bu fonksiyon ile kapatmam lazım.\n",
    "cv2.destroyAllWindows()"
   ]
  },
  {
   "cell_type": "code",
   "execution_count": 2,
   "metadata": {},
   "outputs": [],
   "source": [
    "# Hazır kaydedilmiş video okuma ve izleme\n",
    "\n",
    "cap = cv2.VideoCapture(\"veriler/antalya.mp4\")\n",
    "\n",
    "while True:\n",
    "    ret, frame = cap.read() \n",
    "    \n",
    "    if ret == 0: # bu if döngüsünü videomuz bitince videoyu kapatması için yapıyorum\n",
    "        break\n",
    "        \n",
    "    frame = cv2.flip(frame, 1) \n",
    "    cv2.imshow(\"Antalya\", frame)\n",
    "    \n",
    "    if cv2.waitKey(30) & 0xFF == ord(\"q\"): \n",
    "        break \n",
    "        \n",
    "cap.release() \n",
    "cv2.destroyAllWindows()"
   ]
  },
  {
   "cell_type": "code",
   "execution_count": null,
   "metadata": {},
   "outputs": [],
   "source": []
  }
 ],
 "metadata": {
  "kernelspec": {
   "display_name": "Python 3",
   "language": "python",
   "name": "python3"
  },
  "language_info": {
   "codemirror_mode": {
    "name": "ipython",
    "version": 3
   },
   "file_extension": ".py",
   "mimetype": "text/x-python",
   "name": "python",
   "nbconvert_exporter": "python",
   "pygments_lexer": "ipython3",
   "version": "3.7.4"
  },
  "toc": {
   "base_numbering": 1,
   "nav_menu": {},
   "number_sections": true,
   "sideBar": true,
   "skip_h1_title": false,
   "title_cell": "Table of Contents",
   "title_sidebar": "Contents",
   "toc_cell": false,
   "toc_position": {},
   "toc_section_display": true,
   "toc_window_display": false
  }
 },
 "nbformat": 4,
 "nbformat_minor": 4
}
