{
 "cells": [
  {
   "cell_type": "code",
   "execution_count": 1,
   "metadata": {},
   "outputs": [],
   "source": [
    "import cv2"
   ]
  },
  {
   "cell_type": "code",
   "execution_count": 2,
   "metadata": {},
   "outputs": [
    {
     "data": {
      "text/plain": [
       "array([[[163, 171, 188],\n",
       "        [ 65,  70,  79],\n",
       "        [ 88,  84,  83],\n",
       "        ...,\n",
       "        [203, 202, 211],\n",
       "        [202, 201, 210],\n",
       "        [200, 199, 208]],\n",
       "\n",
       "       [[147, 154, 171],\n",
       "        [ 54,  56,  67],\n",
       "        [ 70,  66,  65],\n",
       "        ...,\n",
       "        [206, 205, 214],\n",
       "        [205, 204, 213],\n",
       "        [204, 203, 212]],\n",
       "\n",
       "       [[132, 136, 154],\n",
       "        [ 49,  49,  61],\n",
       "        [ 63,  58,  57],\n",
       "        ...,\n",
       "        [203, 201, 207],\n",
       "        [203, 201, 207],\n",
       "        [202, 200, 206]],\n",
       "\n",
       "       ...,\n",
       "\n",
       "       [[129, 120, 111],\n",
       "        [127, 118, 109],\n",
       "        [126, 117, 108],\n",
       "        ...,\n",
       "        [ 84,  79,  80],\n",
       "        [ 87,  82,  83],\n",
       "        [ 87,  82,  83]],\n",
       "\n",
       "       [[129, 120, 111],\n",
       "        [126, 117, 108],\n",
       "        [124, 115, 106],\n",
       "        ...,\n",
       "        [ 84,  79,  80],\n",
       "        [ 80,  75,  76],\n",
       "        [ 86,  81,  82]],\n",
       "\n",
       "       [[128, 119, 110],\n",
       "        [124, 115, 106],\n",
       "        [123, 114, 105],\n",
       "        ...,\n",
       "        [ 85,  80,  81],\n",
       "        [ 81,  76,  77],\n",
       "        [ 87,  82,  83]]], dtype=uint8)"
      ]
     },
     "execution_count": 2,
     "metadata": {},
     "output_type": "execute_result"
    }
   ],
   "source": [
    "# Resim Okuma\n",
    "\n",
    "img = cv2.imread(\"veriler/klon.jpg\") # Resimlerin matematiksel değerlerini okur ve sonra img değişkenine eşitler.\n",
    "img"
   ]
  },
  {
   "cell_type": "markdown",
   "metadata": {},
   "source": [
    "* **Resmi renk yoğunluğundan oluşan bir matris olarak okudu**"
   ]
  },
  {
   "cell_type": "code",
   "execution_count": 3,
   "metadata": {},
   "outputs": [],
   "source": [
    "# Resim Gösterme\n",
    "\n",
    "cv2.namedWindow(\"image\", cv2.WINDOW_NORMAL) # Bu işlem resmimizi gösterirken açılan pencereyi boyutlandırmaya yarar.\n",
    "cv2.imshow(\"image\", img) # Sadece bu işlemi yaparsam resmi çok kısa bir süre görürüm ve hemen kaybolur.\n",
    "cv2.waitKey(0) # Bu fonksiyon ile resimi ekranda tutuyoruz, girdiğim değer kadar ekranda tutuyorum. Eğer 0 girersem herhangi bir tuşa basana kadar ekranda kalır.\n",
    "cv2.destroyAllWindows() # Bu fonksiyon bazı hatalardan kurtulmak için tüm pencereleri kapatmaya yarar."
   ]
  },
  {
   "cell_type": "code",
   "execution_count": 4,
   "metadata": {},
   "outputs": [],
   "source": [
    "# Resmi Kaydetme\n",
    "\n",
    "cv2.namedWindow(\"image\", cv2.WINDOW_NORMAL) \n",
    "\n",
    "cv2.imshow(\"image\", img) \n",
    "\n",
    "cv2.imwrite(\"veriler/klon1.jpg\", img) # Bu işlem ile açtığımız resmi istediğimiz konuma istediğimiz isim ile kaydedebiliyoruz.\n",
    "\n",
    "cv2.waitKey(0) \n",
    "cv2.destroyAllWindows()"
   ]
  },
  {
   "cell_type": "code",
   "execution_count": 12,
   "metadata": {},
   "outputs": [],
   "source": [
    "# Resmi Gri Bir şekilde okumak ve göstermek\n",
    "\n",
    "img = cv2.imread(\"veriler/klon.jpg\", 0) # resmi gri göstermek için \"0\" giriyorum\n",
    "cv2.imshow(\"image\", img)\n",
    "cv2.waitKey(0) \n",
    "cv2.destroyAllWindows()"
   ]
  },
  {
   "cell_type": "code",
   "execution_count": 5,
   "metadata": {},
   "outputs": [],
   "source": [
    "import cv2\n",
    "import os\n"
   ]
  },
  {
   "cell_type": "code",
   "execution_count": 6,
   "metadata": {},
   "outputs": [],
   "source": [
    "# read image as grey scale\n",
    "grey_img = cv2.imread('D:/BÜNYAMİN/NOTLAR/TEKNOFEST/Ulaşımda_Yapay_Zeka/veriler/2020_veriler(etiketli)/gonderilecek_veriler/B160519_V1_K1/img_1.jpg', cv2.IMREAD_GRAYSCALE)\n",
    " \n"
   ]
  },
  {
   "cell_type": "code",
   "execution_count": 13,
   "metadata": {},
   "outputs": [
    {
     "ename": "error",
     "evalue": "OpenCV(4.2.0) C:\\projects\\opencv-python\\opencv\\modules\\highgui\\src\\window.cpp:376: error: (-215:Assertion failed) size.width>0 && size.height>0 in function 'cv::imshow'\n",
     "output_type": "error",
     "traceback": [
      "\u001b[1;31m---------------------------------------------------------------------------\u001b[0m",
      "\u001b[1;31merror\u001b[0m                                     Traceback (most recent call last)",
      "\u001b[1;32m<ipython-input-13-e5d80ead495c>\u001b[0m in \u001b[0;36m<module>\u001b[1;34m\u001b[0m\n\u001b[1;32m----> 1\u001b[1;33m \u001b[0mcv2\u001b[0m\u001b[1;33m.\u001b[0m\u001b[0mimshow\u001b[0m\u001b[1;33m(\u001b[0m\u001b[1;34m\"deneme\"\u001b[0m\u001b[1;33m,\u001b[0m \u001b[0mgrey_img\u001b[0m\u001b[1;33m)\u001b[0m\u001b[1;33m\u001b[0m\u001b[1;33m\u001b[0m\u001b[0m\n\u001b[0m",
      "\u001b[1;31merror\u001b[0m: OpenCV(4.2.0) C:\\projects\\opencv-python\\opencv\\modules\\highgui\\src\\window.cpp:376: error: (-215:Assertion failed) size.width>0 && size.height>0 in function 'cv::imshow'\n"
     ]
    }
   ],
   "source": [
    "cv2.imshow(\"deneme\", grey_img)"
   ]
  },
  {
   "cell_type": "code",
   "execution_count": 7,
   "metadata": {},
   "outputs": [
    {
     "ename": "error",
     "evalue": "OpenCV(4.2.0) C:\\projects\\opencv-python\\opencv\\modules\\imgcodecs\\src\\loadsave.cpp:715: error: (-215:Assertion failed) !_img.empty() in function 'cv::imwrite'\n",
     "output_type": "error",
     "traceback": [
      "\u001b[1;31m---------------------------------------------------------------------------\u001b[0m",
      "\u001b[1;31merror\u001b[0m                                     Traceback (most recent call last)",
      "\u001b[1;32m<ipython-input-7-e6ee68934f9b>\u001b[0m in \u001b[0;36m<module>\u001b[1;34m\u001b[0m\n\u001b[0;32m      1\u001b[0m \u001b[1;31m# save image\u001b[0m\u001b[1;33m\u001b[0m\u001b[1;33m\u001b[0m\u001b[1;33m\u001b[0m\u001b[0m\n\u001b[1;32m----> 2\u001b[1;33m \u001b[0mstatus\u001b[0m \u001b[1;33m=\u001b[0m \u001b[0mcv2\u001b[0m\u001b[1;33m.\u001b[0m\u001b[0mimwrite\u001b[0m\u001b[1;33m(\u001b[0m\u001b[1;34m'D:/BÜNYAMİN/NOTLAR/TEKNOFEST/Ulaşımda_Yapay_Zeka/veriler/2020_veriler(etiketli)/gonderilecek_veriler/B160519_V1_K1/IMAGE.jpg'\u001b[0m\u001b[1;33m,\u001b[0m \u001b[0mgrey_img\u001b[0m\u001b[1;33m)\u001b[0m\u001b[1;33m\u001b[0m\u001b[1;33m\u001b[0m\u001b[0m\n\u001b[0m\u001b[0;32m      3\u001b[0m \u001b[1;33m\u001b[0m\u001b[0m\n\u001b[0;32m      4\u001b[0m \u001b[0mprint\u001b[0m\u001b[1;33m(\u001b[0m\u001b[1;34m\"Image written to file-system : \"\u001b[0m\u001b[1;33m,\u001b[0m\u001b[0mstatus\u001b[0m\u001b[1;33m)\u001b[0m\u001b[1;33m\u001b[0m\u001b[1;33m\u001b[0m\u001b[0m\n",
      "\u001b[1;31merror\u001b[0m: OpenCV(4.2.0) C:\\projects\\opencv-python\\opencv\\modules\\imgcodecs\\src\\loadsave.cpp:715: error: (-215:Assertion failed) !_img.empty() in function 'cv::imwrite'\n"
     ]
    }
   ],
   "source": [
    "# save image\n",
    "status = cv2.imwrite('D:/BÜNYAMİN/NOTLAR/TEKNOFEST/Ulaşımda_Yapay_Zeka/veriler/2020_veriler(etiketli)/gonderilecek_veriler/B160519_V1_K1/IMAGE.jpg', grey_img)\n",
    " \n",
    "print(\"Image written to file-system : \", status)"
   ]
  },
  {
   "cell_type": "code",
   "execution_count": null,
   "metadata": {},
   "outputs": [],
   "source": []
  }
 ],
 "metadata": {
  "kernelspec": {
   "display_name": "Python 3",
   "language": "python",
   "name": "python3"
  },
  "language_info": {
   "codemirror_mode": {
    "name": "ipython",
    "version": 3
   },
   "file_extension": ".py",
   "mimetype": "text/x-python",
   "name": "python",
   "nbconvert_exporter": "python",
   "pygments_lexer": "ipython3",
   "version": "3.7.4"
  },
  "toc": {
   "base_numbering": 1,
   "nav_menu": {},
   "number_sections": true,
   "sideBar": true,
   "skip_h1_title": false,
   "title_cell": "Table of Contents",
   "title_sidebar": "Contents",
   "toc_cell": false,
   "toc_position": {},
   "toc_section_display": true,
   "toc_window_display": false
  }
 },
 "nbformat": 4,
 "nbformat_minor": 4
}
