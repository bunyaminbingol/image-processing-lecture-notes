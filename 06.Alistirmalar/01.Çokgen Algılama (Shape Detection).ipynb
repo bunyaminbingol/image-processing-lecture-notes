{
 "cells": [
  {
   "cell_type": "code",
   "execution_count": 1,
   "metadata": {},
   "outputs": [],
   "source": [
    "import cv2\n",
    "import numpy as np\n",
    "\n",
    "font = cv2.FONT_HERSHEY_SIMPLEX\n",
    "font1= cv2.FONT_HERSHEY_COMPLEX #opencv fonts\n",
    "\n",
    "img = cv2.imread(\"veriler/polygons.png\")\n",
    "\n",
    "gray = cv2.cvtColor(img,cv2.COLOR_BGR2GRAY)\n",
    "_,threshold = cv2.threshold(gray,240,255,cv2.THRESH_BINARY)\n",
    "\n",
    "contours,_ = cv2.findContours(threshold,cv2.RETR_TREE,cv2.CHAIN_APPROX_SIMPLE)\n",
    "\n",
    "for cnt in contours:\n",
    "\n",
    "    epsilon = 0.01*cv2.arcLength(cnt,True)\n",
    "    approx = cv2.approxPolyDP(cnt,epsilon,True)\n",
    "\n",
    "    cv2.drawContours(img,[approx],0,(0),5)\n",
    "\n",
    "    x = approx.ravel()[0]\n",
    "    y = approx.ravel()[1]\n",
    "\n",
    "    if len(approx)==3:\n",
    "        cv2.putText(img,\"Triangle\",(x,y),font1,4,(0))\n",
    "        \n",
    "    elif len(approx)==4:\n",
    "        cv2.putText(img,\"Rectangle\",(x,y),font1,4,(0))\n",
    "        \n",
    "    elif len(approx)==5:\n",
    "        cv2.putText(img,\"Pentagon\",(x,y),font1,4,(0))\n",
    "        \n",
    "    elif len(approx)==6:\n",
    "        cv2.putText(img,\"Hexagon\",(x,y),font1,4,(0))\n",
    "        \n",
    "    else:\n",
    "        cv2.putText(img,\"Ellipse\",(x,y),font1,4,(0))\n",
    "\n",
    "cv2.imshow(\"IMG\",img)\n",
    "\n",
    "cv2.waitKey(0)\n",
    "cv2.destroyAllWindows()"
   ]
  },
  {
   "cell_type": "code",
   "execution_count": null,
   "metadata": {},
   "outputs": [],
   "source": []
  }
 ],
 "metadata": {
  "kernelspec": {
   "display_name": "Python 3",
   "language": "python",
   "name": "python3"
  },
  "language_info": {
   "codemirror_mode": {
    "name": "ipython",
    "version": 3
   },
   "file_extension": ".py",
   "mimetype": "text/x-python",
   "name": "python",
   "nbconvert_exporter": "python",
   "pygments_lexer": "ipython3",
   "version": "3.7.10"
  },
  "toc": {
   "base_numbering": 1,
   "nav_menu": {},
   "number_sections": true,
   "sideBar": true,
   "skip_h1_title": false,
   "title_cell": "Table of Contents",
   "title_sidebar": "Contents",
   "toc_cell": false,
   "toc_position": {},
   "toc_section_display": true,
   "toc_window_display": false
  }
 },
 "nbformat": 4,
 "nbformat_minor": 4
}
