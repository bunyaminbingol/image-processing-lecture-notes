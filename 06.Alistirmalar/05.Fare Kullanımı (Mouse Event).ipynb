{
 "cells": [
  {
   "cell_type": "code",
   "execution_count": 1,
   "metadata": {},
   "outputs": [],
   "source": [
    "import cv2\n",
    "\n",
    "cap = cv2.VideoCapture(\"veriler/car.mp4\")\n",
    "circles = []\n",
    "\n",
    "def mouse(event,x,y,flags,params):\n",
    "    if event==cv2.EVENT_LBUTTONDOWN:\n",
    "        circles.append((x,y))\n",
    "\n",
    "cv2.namedWindow(\"Frame\")\n",
    "cv2.setMouseCallback(\"Frame\",mouse)\n",
    "\n",
    "while 1:\n",
    "    _,frame = cap.read()\n",
    "    frame = cv2.resize(frame,(640,480))\n",
    "    for center in circles:\n",
    "        cv2.circle(frame,center,20,(255,0,0),-1)\n",
    "        \n",
    "    cv2.imshow(\"Frame\",frame)\n",
    "    key = cv2.waitKey(1)\n",
    "    if key==27:\n",
    "        break\n",
    "    elif key == ord(\"h\"):\n",
    "        circles =[]\n",
    "\n",
    "cap.release()\n",
    "cv2.destroyAllWindows()"
   ]
  },
  {
   "cell_type": "code",
   "execution_count": null,
   "metadata": {},
   "outputs": [],
   "source": []
  }
 ],
 "metadata": {
  "kernelspec": {
   "display_name": "Python 3",
   "language": "python",
   "name": "python3"
  },
  "language_info": {
   "codemirror_mode": {
    "name": "ipython",
    "version": 3
   },
   "file_extension": ".py",
   "mimetype": "text/x-python",
   "name": "python",
   "nbconvert_exporter": "python",
   "pygments_lexer": "ipython3",
   "version": "3.7.10"
  },
  "toc": {
   "base_numbering": 1,
   "nav_menu": {},
   "number_sections": true,
   "sideBar": true,
   "skip_h1_title": false,
   "title_cell": "Table of Contents",
   "title_sidebar": "Contents",
   "toc_cell": false,
   "toc_position": {},
   "toc_section_display": true,
   "toc_window_display": false
  }
 },
 "nbformat": 4,
 "nbformat_minor": 4
}
