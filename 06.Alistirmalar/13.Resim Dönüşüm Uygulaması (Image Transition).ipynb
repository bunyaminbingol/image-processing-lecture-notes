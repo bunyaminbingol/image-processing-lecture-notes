{
 "cells": [
  {
   "cell_type": "code",
   "execution_count": null,
   "metadata": {},
   "outputs": [],
   "source": [
    "import cv2\n",
    "\n",
    "def nothing(x):\n",
    "    pass\n",
    "\n",
    "img1 = cv2.imread(\"aircraft.jpg\")\n",
    "img1 = cv2.resize(img1,(640,480))\n",
    "\n",
    "img2  = cv2.imread(\"balls.jpg\")\n",
    "img2 = cv2.resize(img2,(640,480))\n",
    "\n",
    "output = cv2.addWeighted(img1,0.5,img2,0.5,0)\n",
    "\n",
    "windowName = \"Transition Program\"\n",
    "cv2.namedWindow(windowName)\n",
    "\n",
    "cv2.createTrackbar(\"Alpha-Beta\",windowName,0,1000,nothing)\n",
    "\n",
    "while True:\n",
    "    cv2.imshow(windowName,output)\n",
    "    alpha = cv2.getTrackbarPos(\"Alpha-Beta\",windowName)/1000\n",
    "    beta = 1-alpha\n",
    "    \n",
    "    output = cv2.addWeighted(img1,alpha,img2,beta,0)\n",
    "    print(alpha,beta)\n",
    "    \n",
    "    if cv2.waitKey(1) == 27:\n",
    "        break\n",
    "\n",
    "cv2.destroyAllWindows()"
   ]
  }
 ],
 "metadata": {
  "kernelspec": {
   "display_name": "Python 3",
   "language": "python",
   "name": "python3"
  },
  "language_info": {
   "codemirror_mode": {
    "name": "ipython",
    "version": 3
   },
   "file_extension": ".py",
   "mimetype": "text/x-python",
   "name": "python",
   "nbconvert_exporter": "python",
   "pygments_lexer": "ipython3",
   "version": "3.7.10"
  },
  "toc": {
   "base_numbering": 1,
   "nav_menu": {},
   "number_sections": true,
   "sideBar": true,
   "skip_h1_title": false,
   "title_cell": "Table of Contents",
   "title_sidebar": "Contents",
   "toc_cell": false,
   "toc_position": {},
   "toc_section_display": true,
   "toc_window_display": false
  }
 },
 "nbformat": 4,
 "nbformat_minor": 4
}
