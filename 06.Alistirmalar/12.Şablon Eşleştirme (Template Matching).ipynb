{
 "cells": [
  {
   "cell_type": "code",
   "execution_count": 1,
   "metadata": {},
   "outputs": [],
   "source": [
    "import cv2\n",
    "import numpy as np\n",
    "\n",
    "image_path = \"veriler/starwars.jpg\"\n",
    "template_path = \"veriler/starwars2.jpg\"\n",
    "\n",
    "img = cv2.imread(image_path)\n",
    "gray_img = cv2.cvtColor(img,cv2.COLOR_BGR2GRAY)\n",
    "\n",
    "template = cv2.imread(template_path,cv2.IMREAD_GRAYSCALE)\n",
    "w,h = template.shape[::-1]\n",
    "\n",
    "result = cv2.matchTemplate(gray_img,template,cv2.TM_CCOEFF_NORMED)\n",
    "location = np.where(result >= 0.95)\n",
    "\n",
    "\n",
    "for point in zip(*location[::-1]):\n",
    "    cv2.rectangle(img,point,(point[0]+w,point[1]+h),(0,255,0),3)\n",
    "\n",
    "\n",
    "cv2.imshow(\"Image\",img)\n",
    "cv2.waitKey(0)\n",
    "cv2.destroyAllWindows()"
   ]
  },
  {
   "cell_type": "code",
   "execution_count": null,
   "metadata": {},
   "outputs": [],
   "source": []
  }
 ],
 "metadata": {
  "kernelspec": {
   "display_name": "Python 3",
   "language": "python",
   "name": "python3"
  },
  "language_info": {
   "codemirror_mode": {
    "name": "ipython",
    "version": 3
   },
   "file_extension": ".py",
   "mimetype": "text/x-python",
   "name": "python",
   "nbconvert_exporter": "python",
   "pygments_lexer": "ipython3",
   "version": "3.7.10"
  },
  "toc": {
   "base_numbering": 1,
   "nav_menu": {},
   "number_sections": true,
   "sideBar": true,
   "skip_h1_title": false,
   "title_cell": "Table of Contents",
   "title_sidebar": "Contents",
   "toc_cell": false,
   "toc_position": {},
   "toc_section_display": true,
   "toc_window_display": false
  }
 },
 "nbformat": 4,
 "nbformat_minor": 4
}
