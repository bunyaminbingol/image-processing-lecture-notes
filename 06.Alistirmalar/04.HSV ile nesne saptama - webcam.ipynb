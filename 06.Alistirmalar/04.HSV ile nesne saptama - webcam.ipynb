{
 "cells": [
  {
   "cell_type": "code",
   "execution_count": 1,
   "metadata": {},
   "outputs": [],
   "source": [
    "import cv2\n",
    "import numpy as np\n",
    "\n",
    "def nothing(x):\n",
    "    pass\n",
    "\n",
    "cap = cv2.VideoCapture(0)\n",
    "\n",
    "cv2.namedWindow(\"Trackbar\")\n",
    "\n",
    "cv2.createTrackbar(\"LH\",\"Trackbar\",0,179,nothing)\n",
    "cv2.createTrackbar(\"LS\",\"Trackbar\",0,255,nothing)\n",
    "cv2.createTrackbar(\"LV\",\"Trackbar\",0,255,nothing)\n",
    "cv2.createTrackbar(\"UH\",\"Trackbar\",0,179,nothing)\n",
    "cv2.createTrackbar(\"US\",\"Trackbar\",0,255,nothing)\n",
    "cv2.createTrackbar(\"UV\",\"Trackbar\",0,255,nothing)\n",
    "\n",
    "\n",
    "while 1:\n",
    "    \n",
    "    ret,frame=cap.read()\n",
    "    frame = cv2.flip(frame,1)\n",
    "    \n",
    "    frame = cv2.resize(frame,(500,350))\n",
    "    hsv = cv2.cvtColor(frame,cv2.COLOR_BGR2HSV)\n",
    "\n",
    "    lh = cv2.getTrackbarPos(\"LH\",\"Trackbar\")\n",
    "    ls = cv2.getTrackbarPos(\"LS\",\"Trackbar\")\n",
    "    lv = cv2.getTrackbarPos(\"LV\",\"Trackbar\")\n",
    "    uh = cv2.getTrackbarPos(\"UH\",\"Trackbar\")\n",
    "    us = cv2.getTrackbarPos(\"US\",\"Trackbar\")\n",
    "    uv = cv2.getTrackbarPos(\"UV\",\"Trackbar\")\n",
    "\n",
    "    lower_blue = np.array([lh,ls,lv])\n",
    "    upper_blue = np.array([uh,us,uv])\n",
    "\n",
    "    mask = cv2.inRange(hsv,lower_blue,upper_blue)\n",
    "    bitwise = cv2.bitwise_and(frame,frame,mask=mask)\n",
    "\n",
    "    cv2.imshow(\"frame\",frame)\n",
    "    cv2.imshow(\"mask\",mask)\n",
    "    cv2.imshow(\"bitwise\",bitwise)\n",
    "\n",
    "    if cv2.waitKey(20) & 0xFF==ord('q'):\n",
    "        break\n",
    "\n",
    "cap.release()\n",
    "cv2.destroyAllWindows()"
   ]
  },
  {
   "cell_type": "code",
   "execution_count": null,
   "metadata": {},
   "outputs": [],
   "source": []
  }
 ],
 "metadata": {
  "kernelspec": {
   "display_name": "Python 3",
   "language": "python",
   "name": "python3"
  },
  "language_info": {
   "codemirror_mode": {
    "name": "ipython",
    "version": 3
   },
   "file_extension": ".py",
   "mimetype": "text/x-python",
   "name": "python",
   "nbconvert_exporter": "python",
   "pygments_lexer": "ipython3",
   "version": "3.7.10"
  },
  "toc": {
   "base_numbering": 1,
   "nav_menu": {},
   "number_sections": true,
   "sideBar": true,
   "skip_h1_title": false,
   "title_cell": "Table of Contents",
   "title_sidebar": "Contents",
   "toc_cell": false,
   "toc_position": {},
   "toc_section_display": true,
   "toc_window_display": false
  }
 },
 "nbformat": 4,
 "nbformat_minor": 4
}
