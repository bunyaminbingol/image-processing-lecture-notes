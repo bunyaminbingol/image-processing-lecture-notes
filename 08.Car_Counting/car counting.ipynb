{
 "cells": [
  {
   "cell_type": "code",
   "execution_count": null,
   "metadata": {},
   "outputs": [],
   "source": [
    "import cv2\n",
    "import numpy as np\n",
    "\n",
    "vid = cv2.VideoCapture(\"veriler/traffic.avi\")\n",
    "backsub = cv2.createBackgroundSubtractorMOG2()\n",
    "c = 0\n",
    "\n",
    "while True:\n",
    "    ret,frame = vid.read()\n",
    "    if ret:\n",
    "        fgmask = backsub.apply(frame)\n",
    "        cv2.line(frame,(50,0),(50,300),(0,255,0),2)\n",
    "        cv2.line(frame,(70,0),(70,300),(0,255,0),2)\n",
    "\n",
    "        contours,hierarchy = cv2.findContours(fgmask,cv2.RETR_TREE,cv2.CHAIN_APPROX_SIMPLE)\n",
    "        try : hierarchy = hierarchy[0]\n",
    "        except: hierarchy=[]\n",
    "\n",
    "        for contour,hier in zip(contours,hierarchy):\n",
    "            (x,y,w,h) = cv2.boundingRect(contour)\n",
    "            if w>40 and h >40:\n",
    "                cv2.rectangle(frame,(x,y),(x+w,y+h),(255,0,0),3)\n",
    "                if x>50 and x<70:\n",
    "                    c+=1\n",
    "\n",
    "        # cv2.putText(source_image,text,coordinates,font,size,color,thickness,better look)          \n",
    "        cv2.putText(frame,\"car: \"+str(c),(90,100),cv2.FONT_HERSHEY_SIMPLEX,2,(0,0,255),2,cv2.LINE_AA)\n",
    "        \n",
    "\n",
    "        cv2.imshow(\"Car Counting\",frame)\n",
    "        cv2.imshow(\"fgmask\",fgmask)\n",
    "        \n",
    "        if cv2.waitKey(40) & 0xFF==ord('q'):\n",
    "            break\n",
    "\n",
    "vid.release()\n",
    "cv2.destroyAllWindows()      \n"
   ]
  },
  {
   "cell_type": "code",
   "execution_count": null,
   "metadata": {},
   "outputs": [],
   "source": []
  }
 ],
 "metadata": {
  "kernelspec": {
   "display_name": "Python 3",
   "language": "python",
   "name": "python3"
  },
  "language_info": {
   "codemirror_mode": {
    "name": "ipython",
    "version": 3
   },
   "file_extension": ".py",
   "mimetype": "text/x-python",
   "name": "python",
   "nbconvert_exporter": "python",
   "pygments_lexer": "ipython3",
   "version": "3.7.10"
  },
  "toc": {
   "base_numbering": 1,
   "nav_menu": {},
   "number_sections": true,
   "sideBar": true,
   "skip_h1_title": false,
   "title_cell": "Table of Contents",
   "title_sidebar": "Contents",
   "toc_cell": false,
   "toc_position": {},
   "toc_section_display": true,
   "toc_window_display": false
  }
 },
 "nbformat": 4,
 "nbformat_minor": 4
}
