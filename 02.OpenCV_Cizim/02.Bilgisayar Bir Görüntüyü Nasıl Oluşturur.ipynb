{
 "cells": [
  {
   "cell_type": "code",
   "execution_count": 1,
   "metadata": {},
   "outputs": [],
   "source": [
    "import cv2\n",
    "import numpy as np"
   ]
  },
  {
   "cell_type": "markdown",
   "metadata": {},
   "source": [
    "* **INTER_NEAREST**  - en yakın komşu enterpolasyonu\n",
    "* **INTER_LINEAR**  - çift doğrusal enterpolasyon (varsayılan olarak kullanılır)\n",
    "* **INTER_AREA**  - piksel alanı ilişkisini kullanarak yeniden örnekleme. Hareli olmayan sonuçlar verdiği için görüntü kesilmesi için tercih edilen bir yöntem olabilir. Ancak görüntü yakınlaştırıldığında INTER_NEAREST yönteme benzer .\n",
    "* **INTER_CUBIC**  - 4 × 4 piksel mahallesi üzerinde bikübik enterpolasyon\n",
    "* **INTER_LANCZOS4**  - 8 × 8 piksel mahallesi üzerinde bir Lanczos enterpolasyonu"
   ]
  },
  {
   "cell_type": "code",
   "execution_count": 3,
   "metadata": {},
   "outputs": [],
   "source": [
    "img = np.zeros((10,10,3), np.uint8)\n",
    "\n",
    "img[0,0] = (255,255,255) # Pikselleri tek tek boyuyoruz. Beyaz'dan Mavi'ye doğru bir piksel ilerleyişi olacak. \n",
    "img[0,1] = (255,255,200)\n",
    "img[0,2] = (255,255,150)\n",
    "img[0,3] = (255,255,15)\n",
    "\n",
    "img = cv2.resize(img, (1000, 1000), interpolation = cv2.INTER_AREA) # yeniden boyutlandırma yapıyorum\n",
    "\n",
    "cv2.imshow(\"Canvas\", img)\n",
    "cv2.waitKey(0)\n",
    "cv2.destroyAllWindows()"
   ]
  },
  {
   "cell_type": "code",
   "execution_count": 5,
   "metadata": {},
   "outputs": [],
   "source": [
    "# Siyah Beyaz görüntüler için hiç kanal olmaması lazım\n",
    "\n",
    "img = np.zeros((10,10), np.uint8) # Buradan kanalı siliyoruz\n",
    "\n",
    "img[0,0] = 255 \n",
    "img[0,1] = 200\n",
    "img[0,2] = 100\n",
    "img[0,3] = 15\n",
    "\n",
    "img = cv2.resize(img, (1000, 1000), interpolation = cv2.INTER_AREA) # yeniden boyutlandırma yapıyorum\n",
    "\n",
    "cv2.imshow(\"Canvas\", img)\n",
    "cv2.waitKey(0)\n",
    "cv2.destroyAllWindows()"
   ]
  },
  {
   "cell_type": "code",
   "execution_count": null,
   "metadata": {},
   "outputs": [],
   "source": []
  }
 ],
 "metadata": {
  "kernelspec": {
   "display_name": "Python 3",
   "language": "python",
   "name": "python3"
  },
  "language_info": {
   "codemirror_mode": {
    "name": "ipython",
    "version": 3
   },
   "file_extension": ".py",
   "mimetype": "text/x-python",
   "name": "python",
   "nbconvert_exporter": "python",
   "pygments_lexer": "ipython3",
   "version": "3.7.4"
  },
  "toc": {
   "base_numbering": 1,
   "nav_menu": {},
   "number_sections": true,
   "sideBar": true,
   "skip_h1_title": false,
   "title_cell": "Table of Contents",
   "title_sidebar": "Contents",
   "toc_cell": false,
   "toc_position": {},
   "toc_section_display": true,
   "toc_window_display": false
  }
 },
 "nbformat": 4,
 "nbformat_minor": 4
}
