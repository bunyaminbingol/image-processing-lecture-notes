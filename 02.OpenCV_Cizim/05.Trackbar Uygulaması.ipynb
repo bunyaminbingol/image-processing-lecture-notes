{
 "cells": [
  {
   "cell_type": "code",
   "execution_count": 5,
   "metadata": {},
   "outputs": [],
   "source": [
    "import cv2\n",
    "import numpy as np\n",
    "\n",
    "def nothing(x):\n",
    "    pass\n",
    "\n",
    "\n",
    "img = np.zeros((512,512,3), np.uint8)\n",
    "cv2.namedWindow(\"Image\") # Pencereye ad vermemizin nedeni trackbar arayüzünü,  bu rengini değiştireceğimiz pencereye yerleştireceğimizi belirtmektir.\n",
    "\n",
    "# Kızakları oluşturalım (RGB)\n",
    "cv2.createTrackbar(\"R\", \"Image\", 0, 255, nothing) # Oluşturduğumuz boş fonksiyonu buraya parametre olarak ekliyoruz bunun nedeni burada kullandığımız fonksiyonun bunu istemesinden dolayı\n",
    "cv2.createTrackbar(\"G\", \"Image\", 0, 255, nothing)\n",
    "cv2.createTrackbar(\"B\", \"Image\", 0, 255, nothing)\n",
    "switch = \"0: OFF, 1: ON\"\n",
    "cv2.createTrackbar(switch, \"Image\", 0, 1, nothing)\n",
    "\n",
    "# Trackbarların pozisyonlarını alacağım ve aldığım değerleri pencereye yansıtacağım.\n",
    "while True:\n",
    "    cv2.imshow(\"Image\", img)\n",
    "    \n",
    "    if cv2.waitKey(1) & 0xFF == ord(\"q\"):\n",
    "        break\n",
    "    \n",
    "    r = cv2.getTrackbarPos(\"R\", \"Image\")\n",
    "    g = cv2.getTrackbarPos(\"G\", \"Image\")\n",
    "    b = cv2.getTrackbarPos(\"B\", \"Image\")\n",
    "    s = cv2.getTrackbarPos(switch, \"Image\") \n",
    "    \n",
    "    if s == 0:\n",
    "        img[:] = [0,0,0] # Siyah ekran olsun\n",
    "        \n",
    "    if s == 1:\n",
    "        # Değişkenleri aldım ve şimdi bu değişkenleri pencereye göndereceğim.\n",
    "        img[:] = [b, g, r]\n",
    "    \n",
    "cv2.destroyAllWindows()"
   ]
  },
  {
   "cell_type": "code",
   "execution_count": null,
   "metadata": {},
   "outputs": [],
   "source": []
  }
 ],
 "metadata": {
  "kernelspec": {
   "display_name": "Python 3",
   "language": "python",
   "name": "python3"
  },
  "language_info": {
   "codemirror_mode": {
    "name": "ipython",
    "version": 3
   },
   "file_extension": ".py",
   "mimetype": "text/x-python",
   "name": "python",
   "nbconvert_exporter": "python",
   "pygments_lexer": "ipython3",
   "version": "3.7.4"
  },
  "toc": {
   "base_numbering": 1,
   "nav_menu": {},
   "number_sections": true,
   "sideBar": true,
   "skip_h1_title": false,
   "title_cell": "Table of Contents",
   "title_sidebar": "Contents",
   "toc_cell": false,
   "toc_position": {},
   "toc_section_display": true,
   "toc_window_display": false
  }
 },
 "nbformat": 4,
 "nbformat_minor": 4
}
