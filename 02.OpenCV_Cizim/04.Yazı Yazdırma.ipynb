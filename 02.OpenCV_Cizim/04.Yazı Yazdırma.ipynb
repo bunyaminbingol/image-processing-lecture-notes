{
 "cells": [
  {
   "cell_type": "code",
   "execution_count": 1,
   "metadata": {},
   "outputs": [],
   "source": [
    "import cv2\n",
    "import numpy as np"
   ]
  },
  {
   "cell_type": "code",
   "execution_count": 9,
   "metadata": {},
   "outputs": [],
   "source": [
    "canvas = np.zeros((512,512,3), dtype = np.uint8) + 255\n",
    "\n",
    "font1 = cv2.FONT_HERSHEY_COMPLEX\n",
    "font2 = cv2.FONT_HERSHEY_SIMPLEX\n",
    "font3 = cv2.FONT_HERSHEY_DUPLEX\n",
    "\n",
    "cv2.putText(canvas, \"Bunyamin\", (100,100), font1, 2, (0,0,0), cv2.LINE_4) # Bu fonksiyon görüntü üzerine yazı yazmak için kullanılır.\n",
    "cv2.putText(canvas, \"Bingol\", (100,200), font2, 2, (0,0,0), cv2.LINE_4)\n",
    "cv2.putText(canvas, \"Malatya\", (100,300), font3, 2, (0,0,0), cv2.LINE_4)\n",
    "# 1. parametre yazılacak yazı\n",
    "# 2. parametre yazının sol alt köşesi\n",
    "# 3. parametre yazının fontu\n",
    "# 4. parametre yazı fontunun büyüklüğü\n",
    "# 5. parametre yazının rengi\n",
    "# 6. parametre yazının tipi\n",
    "\n",
    "cv2.imshow(\"Canvas\", canvas)\n",
    "cv2.waitKey(0)\n",
    "cv2.destroyAllWindows()"
   ]
  },
  {
   "cell_type": "code",
   "execution_count": null,
   "metadata": {},
   "outputs": [],
   "source": []
  }
 ],
 "metadata": {
  "kernelspec": {
   "display_name": "Python 3",
   "language": "python",
   "name": "python3"
  },
  "language_info": {
   "codemirror_mode": {
    "name": "ipython",
    "version": 3
   },
   "file_extension": ".py",
   "mimetype": "text/x-python",
   "name": "python",
   "nbconvert_exporter": "python",
   "pygments_lexer": "ipython3",
   "version": "3.7.4"
  },
  "toc": {
   "base_numbering": 1,
   "nav_menu": {},
   "number_sections": true,
   "sideBar": true,
   "skip_h1_title": false,
   "title_cell": "Table of Contents",
   "title_sidebar": "Contents",
   "toc_cell": false,
   "toc_position": {},
   "toc_section_display": true,
   "toc_window_display": false
  }
 },
 "nbformat": 4,
 "nbformat_minor": 4
}
