{
 "cells": [
  {
   "cell_type": "code",
   "execution_count": 2,
   "metadata": {},
   "outputs": [],
   "source": [
    "import cv2\n",
    "import numpy as np"
   ]
  },
  {
   "cell_type": "code",
   "execution_count": 9,
   "metadata": {},
   "outputs": [],
   "source": [
    "# Düz çizgi Çizimi\n",
    "\n",
    "canvas = np.zeros((512,512,3), dtype = np.uint8) + 255\n",
    "\n",
    "cv2.line(canvas, (50,50), (512,512), (255, 0, 0), thickness = 5) # Basit bir çizgi çizmek için kullanıyorum bu fonksiyonu\n",
    "cv2.line(canvas, (462,50), (0,512), (0, 255, 0), thickness = 5)\n",
    "# 1. parametre çizginin başlangıç noktası\n",
    "# 2. parametre çizginin bitiş noktası\n",
    "# 3. parametre çizginin rengini belirtiyoruz\n",
    "# thickness değeri ise çizginin kalınlığını belirtiyor.\n",
    "\n",
    "cv2.imshow(\"Canvas\", canvas)\n",
    "cv2.waitKey(0)\n",
    "cv2.destroyAllWindows()"
   ]
  },
  {
   "cell_type": "code",
   "execution_count": 13,
   "metadata": {},
   "outputs": [],
   "source": [
    "# Diktörtgen Çizimi\n",
    "\n",
    "canvas = np.zeros((512,512,3), dtype = np.uint8) + 255\n",
    "\n",
    "cv2.rectangle(canvas, (20,20), (50,50), (0,0,255), thickness = 2) # Bu fonksiyon görüntü üzerine diktörtgen çizmek için kullanılır.\n",
    "# 1. parametse diktörtgenin sol üst köşesi\n",
    "# 2. parametse diktörtgenin sağ alt köşesi\n",
    "# 3. parametre diktörtgenin rengini belirtiyoruz\n",
    "# thickness değeri ise diktörtgenin kalınlığını belirtiyor.\n",
    "\n",
    "# Oluşturduğumuz diktörtgenin içini doldurmak için kalınlığı -1 yapmamız lazım:\n",
    "cv2.rectangle(canvas, (70,70), (100,100), (0,0,255), thickness = -1)\n",
    "\n",
    "cv2.imshow(\"Canvas\", canvas)\n",
    "cv2.waitKey(0)\n",
    "cv2.destroyAllWindows()"
   ]
  },
  {
   "cell_type": "code",
   "execution_count": 16,
   "metadata": {},
   "outputs": [],
   "source": [
    "# Çember Çizimi\n",
    "\n",
    "canvas = np.zeros((512,512,3), dtype = np.uint8) + 255\n",
    "\n",
    "cv2.circle(canvas, (250,250), 100, (0,255,0), thickness = 2) # Bu fonksiyon görüntü üzerine çember çizmek için kullanılır.\n",
    "# 1. parametse çemberin merkez noktası\n",
    "# 2. parametse çemberin yarıçapı\n",
    "# 3. parametre çemberin rengini belirtiyoruz\n",
    "# thickness değeri ise çemberin kalınlığını belirtiyor.\n",
    "\n",
    "# Oluşturduğumuz çemberin içini doldurmak için kalınlığı -1 yapmamız lazım:\n",
    "cv2.circle(canvas, (60,60), 50, (0,255,0), thickness = -1)\n",
    "\n",
    "cv2.imshow(\"Canvas\", canvas)\n",
    "cv2.waitKey(0)\n",
    "cv2.destroyAllWindows()"
   ]
  },
  {
   "cell_type": "code",
   "execution_count": 17,
   "metadata": {},
   "outputs": [],
   "source": [
    "# Düz çizgi ile Üçgen Çizimi\n",
    "\n",
    "canvas = np.zeros((512,512,3), dtype = np.uint8) + 255\n",
    "\n",
    "p1 = (100,200)\n",
    "p2 = (50,50)\n",
    "p3 = (300,300)\n",
    "\n",
    "cv2.line(canvas, p1, p2, (0,0,0), thickness = 4)\n",
    "cv2.line(canvas, p2, p3, (0,0,0), thickness = 4)\n",
    "cv2.line(canvas, p1, p3, (0,0,0), thickness = 4)\n",
    "\n",
    "cv2.imshow(\"Canvas\", canvas)\n",
    "cv2.waitKey(0)\n",
    "cv2.destroyAllWindows()"
   ]
  },
  {
   "cell_type": "code",
   "execution_count": 21,
   "metadata": {},
   "outputs": [],
   "source": [
    "# Yamuk veya Çokken gibi şekillerin çizimi\n",
    "\n",
    "canvas = np.zeros((512,512,3), dtype = np.uint8) + 255\n",
    "\n",
    "points = np.array([[110,200], [330,200], [290,120], [100,100]], np.int32) # numpy ile oluşturduğumuz her sayı dizisinin veri tipini de girmemiz lazım. \n",
    "\n",
    "cv2.polylines(canvas, [points], True, (0,0,100), 4) # Bu fonksiyon ile birden fazla line(düz) çizgi çizip bunları birleştirerek bir çokgen veya yamuk oluşturabiliriz.\n",
    "#2. parametrede oluşturduğumuz çokgenin kapalı olmasını istiyorsak \"True\" değerini giriyoruz.\n",
    " \n",
    "cv2.imshow(\"Canvas\", canvas)\n",
    "cv2.waitKey(0)\n",
    "cv2.destroyAllWindows()"
   ]
  },
  {
   "cell_type": "code",
   "execution_count": 27,
   "metadata": {},
   "outputs": [],
   "source": [
    "# Elips çizelim\n",
    "\n",
    "canvas = np.zeros((512,512,3), dtype = np.uint8) + 255\n",
    "\n",
    "cv2.ellipse(canvas, (300,300), (100,50), 10, 90, 360, (255,255,0), -1)\n",
    "# 1. parametse elipsin merkez noktası\n",
    "# 2. parametse elipsin genişliği ve yüksekliğini giriyoruz\n",
    "# 3. parametre elipsin yatay eksende yapacağı açıyı giriyoruz\n",
    "# 4. parametre elipsin başlangıç açısını giriyoruz\n",
    "# 5. parametre elipsin bitiş açısını giriyoruz\n",
    "# 6. parametre elipsin rengini belirtiyoruz\n",
    "# 7. parametre elipsin kalınlığını belirtiyoruz\n",
    "\n",
    "cv2.imshow(\"Canvas\", canvas)\n",
    "cv2.waitKey(0)\n",
    "cv2.destroyAllWindows()"
   ]
  },
  {
   "cell_type": "code",
   "execution_count": null,
   "metadata": {},
   "outputs": [],
   "source": []
  }
 ],
 "metadata": {
  "kernelspec": {
   "display_name": "Python 3",
   "language": "python",
   "name": "python3"
  },
  "language_info": {
   "codemirror_mode": {
    "name": "ipython",
    "version": 3
   },
   "file_extension": ".py",
   "mimetype": "text/x-python",
   "name": "python",
   "nbconvert_exporter": "python",
   "pygments_lexer": "ipython3",
   "version": "3.7.4"
  },
  "toc": {
   "base_numbering": 1,
   "nav_menu": {},
   "number_sections": true,
   "sideBar": true,
   "skip_h1_title": false,
   "title_cell": "Table of Contents",
   "title_sidebar": "Contents",
   "toc_cell": false,
   "toc_position": {},
   "toc_section_display": true,
   "toc_window_display": false
  }
 },
 "nbformat": 4,
 "nbformat_minor": 4
}
