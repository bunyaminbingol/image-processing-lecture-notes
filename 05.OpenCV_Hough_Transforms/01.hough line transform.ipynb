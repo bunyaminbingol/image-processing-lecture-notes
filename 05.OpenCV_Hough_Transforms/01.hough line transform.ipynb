{
 "cells": [
  {
   "cell_type": "code",
   "execution_count": null,
   "metadata": {},
   "outputs": [],
   "source": [
    "# Resimler için\n",
    "\n",
    "import cv2\n",
    "import numpy as np\n",
    "\n",
    "img = cv2.imread(\"veriler/h_line.png\")\n",
    "gray = cv2.imread(\"veriler/h_line.png\", 0)\n",
    "edges = cv2.Canny(gray, 75, 150)\n",
    "\n",
    "lines = cv2.HoughLinesP(edges, 1, np.pi/180, 50, maxLineGap=200)\n",
    "\n",
    "for line in lines:\n",
    "    x1,y1,x2,y2 = line[0] # çizgilerin başlangıç ve bitiş noktaları\n",
    "    cv2.line(img, (x1,y1), (x2,y2), (0,255,0), 2)\n",
    "\n",
    "cv2.imshow(\"img\", img)\n",
    "cv2.imshow(\"gray\", gray)\n",
    "cv2.imshow(\"edges\", edges)\n",
    "\n",
    "cv2.waitKey(0)\n",
    "cv2.destroyAllWindows()"
   ]
  },
  {
   "cell_type": "code",
   "execution_count": null,
   "metadata": {},
   "outputs": [],
   "source": [
    "# Videolar için\n",
    "\n",
    "import cv2\n",
    "import numpy as np\n",
    "\n",
    "vid = cv2.VideoCapture(\"veriler/line.mp4\")\n",
    "\n",
    "while True:\n",
    "    ret,frame = vid.read()\n",
    "    frame = cv2.resize(frame,(640,480))\n",
    "    hsv = cv2.cvtColor(frame, cv2.COLOR_BGR2HSV)\n",
    "    \n",
    "    lower_yellow = np.array([18,94,140], np.uint8)\n",
    "    upper_yellow = np.array([48,255,255], np.uint8)\n",
    "    \n",
    "    mask = cv2.inRange(hsv,lower_yellow,upper_yellow)\n",
    "    edges = cv2.Canny(mask, 75, 250)\n",
    "    lines = cv2.HoughLinesP(edges,1,np.pi/180,50,maxLineGap=50)\n",
    "\n",
    "    for line in lines:\n",
    "        (x1,y1,x2,y2) = line[0]\n",
    "        cv2.line(frame,(x1,y1),(x2,y2),(0,255,0),5)\n",
    "\n",
    "    cv2.imshow(\"IMG\",frame)\n",
    "\n",
    "    if cv2.waitKey(20) & 0xFF==ord('q'):\n",
    "        break\n",
    "\n",
    "vid.release()\n",
    "cv2.destroyAllWindows()"
   ]
  },
  {
   "cell_type": "code",
   "execution_count": null,
   "metadata": {},
   "outputs": [],
   "source": []
  }
 ],
 "metadata": {
  "kernelspec": {
   "display_name": "Python 3",
   "language": "python",
   "name": "python3"
  },
  "language_info": {
   "codemirror_mode": {
    "name": "ipython",
    "version": 3
   },
   "file_extension": ".py",
   "mimetype": "text/x-python",
   "name": "python",
   "nbconvert_exporter": "python",
   "pygments_lexer": "ipython3",
   "version": "3.7.10"
  },
  "toc": {
   "base_numbering": 1,
   "nav_menu": {},
   "number_sections": true,
   "sideBar": true,
   "skip_h1_title": false,
   "title_cell": "Table of Contents",
   "title_sidebar": "Contents",
   "toc_cell": false,
   "toc_position": {},
   "toc_section_display": true,
   "toc_window_display": false
  }
 },
 "nbformat": 4,
 "nbformat_minor": 4
}
