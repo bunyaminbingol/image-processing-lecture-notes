{
 "cells": [
  {
   "cell_type": "code",
   "execution_count": 3,
   "metadata": {},
   "outputs": [],
   "source": [
    "import cv2\n",
    "import numpy as np\n",
    "\n",
    "img1=cv2.imread(\"veriler/coins.jpg\")\n",
    "img2=cv2.imread(\"veriler/balls.jpg\")\n",
    "\n",
    "gray1 = cv2.cvtColor(img1,cv2.COLOR_BGR2GRAY)\n",
    "gray2 = cv2.cvtColor(img2,cv2.COLOR_BGR2GRAY)\n",
    "\n",
    "img1_blur = cv2.medianBlur(gray1,5)\n",
    "img2_blur = cv2.medianBlur(gray2,5)\n",
    "\n",
    "circles = cv2.HoughCircles(img2_blur,cv2.HOUGH_GRADIENT,1,img2.shape[0]/4,param1=200,param2=10,minRadius=15,maxRadius=89)\n",
    "\n",
    "if circles is not None:\n",
    "    circles = np.uint16(np.around(circles))\n",
    "    for i in circles[0,:]:\n",
    "        cv2.circle(img2, (i[0],i[1]), i[2], (0,255,0),2)\n",
    "\n",
    "cv2.imshow(\"img\",img2)\n",
    "\n",
    "cv2."
   ]
  },
  {
   "cell_type": "code",
   "execution_count": null,
   "metadata": {},
   "outputs": [],
   "source": []
  }
 ],
 "metadata": {
  "kernelspec": {
   "display_name": "Python 3",
   "language": "python",
   "name": "python3"
  },
  "language_info": {
   "codemirror_mode": {
    "name": "ipython",
    "version": 3
   },
   "file_extension": ".py",
   "mimetype": "text/x-python",
   "name": "python",
   "nbconvert_exporter": "python",
   "pygments_lexer": "ipython3",
   "version": "3.7.10"
  },
  "toc": {
   "base_numbering": 1,
   "nav_menu": {},
   "number_sections": true,
   "sideBar": true,
   "skip_h1_title": false,
   "title_cell": "Table of Contents",
   "title_sidebar": "Contents",
   "toc_cell": false,
   "toc_position": {},
   "toc_section_display": true,
   "toc_window_display": false
  }
 },
 "nbformat": 4,
 "nbformat_minor": 4
}
