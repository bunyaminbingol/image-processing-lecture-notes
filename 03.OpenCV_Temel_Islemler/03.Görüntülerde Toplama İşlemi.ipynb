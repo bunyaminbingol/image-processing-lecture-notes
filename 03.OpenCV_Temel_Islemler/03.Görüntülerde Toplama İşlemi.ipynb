{
 "cells": [
  {
   "cell_type": "markdown",
   "metadata": {},
   "source": [
    "* **Bu kısımda resimler üzerinde topalam işlemi yapacağız, matematikteki yaptığımız toplama işlemini resimlere uygulayacağız.**\n",
    "* **Resimler aynı boyutta olması lazım çünkü resimler matris formatındadır ve  matrisleri toplamamız için matrislerin aynı boyutta olması gerekiyor.**"
   ]
  },
  {
   "cell_type": "code",
   "execution_count": 1,
   "metadata": {},
   "outputs": [],
   "source": [
    "import cv2\n",
    "import numpy as np"
   ]
  },
  {
   "cell_type": "code",
   "execution_count": 2,
   "metadata": {},
   "outputs": [
    {
     "name": "stdout",
     "output_type": "stream",
     "text": [
      "[255   0 255]\n"
     ]
    }
   ],
   "source": [
    "# İlk resmimizi oluşturalım, resim bir tuval lacak ve ortasında daire olacak:\n",
    "\n",
    "circle = np.zeros((512,512,3), np.uint8) + 255 # beyaz tuvali oluşturduk\n",
    "cv2.circle(circle, (256,256), 60, (255,0,0), -1) # bu tuvalin merkezine bir daire(circle) çiziyoruz.\n",
    "\n",
    "# İlk resmimizi oluşturalım, resim bir tuval lacak ve ortasında dikdörtgen olacak:\n",
    "rectangle = np.zeros((512,512,3), np.uint8) + 255 # beyaz tuvali oluşturduk\n",
    "cv2.rectangle(rectangle, (150,150), (350,350), (0,0,255), -1)\n",
    "\n",
    "# Şimdi bu resimleri toplayıp çıktılarına bakalım:\n",
    "add = cv2.add(circle, rectangle)\n",
    "print(add[256,256])\n",
    "\n",
    "cv2.imshow(\"Circle\", circle)\n",
    "cv2.imshow(\"Rectangle\", rectangle)\n",
    "cv2.imshow(\"Add\", add) # Mor bir şekil ortaya çıktı\n",
    "\n",
    "cv2.waitKey(0)\n",
    "cv2.destroyAllWindows()"
   ]
  },
  {
   "cell_type": "markdown",
   "metadata": {},
   "source": [
    "**Bu değerin anlamı, biri kırmızı biri mavi olan iki şekli toplamıştım ve bu iki rengin toplamı olan bir BGR değeri ortaya çıktı.**"
   ]
  },
  {
   "cell_type": "code",
   "execution_count": null,
   "metadata": {},
   "outputs": [],
   "source": []
  }
 ],
 "metadata": {
  "kernelspec": {
   "display_name": "Python 3",
   "language": "python",
   "name": "python3"
  },
  "language_info": {
   "codemirror_mode": {
    "name": "ipython",
    "version": 3
   },
   "file_extension": ".py",
   "mimetype": "text/x-python",
   "name": "python",
   "nbconvert_exporter": "python",
   "pygments_lexer": "ipython3",
   "version": "3.7.4"
  },
  "toc": {
   "base_numbering": 1,
   "nav_menu": {},
   "number_sections": true,
   "sideBar": true,
   "skip_h1_title": false,
   "title_cell": "Table of Contents",
   "title_sidebar": "Contents",
   "toc_cell": false,
   "toc_position": {},
   "toc_section_display": true,
   "toc_window_display": false
  }
 },
 "nbformat": 4,
 "nbformat_minor": 4
}
