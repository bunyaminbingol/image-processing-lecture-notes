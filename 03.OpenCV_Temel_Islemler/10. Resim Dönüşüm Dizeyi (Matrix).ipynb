{
 "cells": [
  {
   "cell_type": "markdown",
   "metadata": {},
   "source": [
    "* Bu konu ile alakalı web siteleri:\n",
    "* https://docs.opencv.org/master/dd/d52/tutorial_js_geometric_transformations.html\n",
    "* https://docs.opencv.org/master/da/d6e/tutorial_py_geometric_transformations.html"
   ]
  },
  {
   "cell_type": "code",
   "execution_count": 1,
   "metadata": {},
   "outputs": [
    {
     "name": "stdout",
     "output_type": "stream",
     "text": [
      "410\n",
      "731\n"
     ]
    }
   ],
   "source": [
    "import cv2\n",
    "import numpy as np\n",
    "\n",
    "img = cv2.imread(\"veriler/helikopter.jpg\", 0) # Sonuna 0 koyarak resmi siyah beyaz hale getiriyorum.\n",
    "row, col = img.shape # Shape bana satır ve sütun değerlerini veriyordu ben bu değerleri iki değişken içerisinde tutacağım\n",
    "print(row)\n",
    "print(col)\n"
   ]
  },
  {
   "attachments": {
    "image.png": {
     "image/png": "[encoded data removed]"
    }
   },
   "cell_type": "markdown",
   "metadata": {},
   "source": [
    "resme bu matrisi uygulayacağım :![image.png](attachment:image.png)"
   ]
  },
  {
   "cell_type": "code",
   "execution_count": 3,
   "metadata": {},
   "outputs": [],
   "source": [
    "# burada resmi biraz kesip kaydıracağım ve bunun için dönüşüm dizeyi kullanıyorum\n",
    "\n",
    "M = np.float32([[1,0,10],[0,1,70]])\n",
    "dst = cv2.warpAffine(img, M, (row,col))\n",
    "\n",
    "cv2.imshow(\"dst\", dst)\n",
    "cv2.waitKey(0)\n",
    "cv2.destroyAllWindows()"
   ]
  },
  {
   "cell_type": "code",
   "execution_count": null,
   "metadata": {},
   "outputs": [],
   "source": []
  }
 ],
 "metadata": {
  "kernelspec": {
   "display_name": "Python 3",
   "language": "python",
   "name": "python3"
  },
  "language_info": {
   "codemirror_mode": {
    "name": "ipython",
    "version": 3
   },
   "file_extension": ".py",
   "mimetype": "text/x-python",
   "name": "python",
   "nbconvert_exporter": "python",
   "pygments_lexer": "ipython3",
   "version": "3.7.4"
  },
  "toc": {
   "base_numbering": 1,
   "nav_menu": {},
   "number_sections": true,
   "sideBar": true,
   "skip_h1_title": false,
   "title_cell": "Table of Contents",
   "title_sidebar": "Contents",
   "toc_cell": false,
   "toc_position": {},
   "toc_section_display": true,
   "toc_window_display": false
  }
 },
 "nbformat": 4,
 "nbformat_minor": 4
}
