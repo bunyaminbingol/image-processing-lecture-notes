{
 "cells": [
  {
   "cell_type": "markdown",
   "metadata": {},
   "source": [
    "#  Renk Uzayı Nedir, Görüntülerin Renk Uzayı Nasıl Değiştirilir "
   ]
  },
  {
   "cell_type": "markdown",
   "metadata": {},
   "source": [
    "* **Renk Uzayı, belirli renk organizasyonlarına verilen isimdir. Resimler belirli renklerin bir araya gelmeleri ile oluşurlar bu bir araya gelme işlemi renk organizasyonudur.**\n",
    "* **Bizim için önemli 3 renk uzayı vardır bunlar:**\n",
    "> * **BGR --> Blue, Green ve Red renklerinin belirli yoğunluklarda bir araya gelmesi**\n",
    "> * **HSV --> Hue, Saturation ve Value yani Ton, Doygunluk ve Parlaklık**\n",
    "> * **GrayScale deiğimiz Gri tonlama yani resimlerin gri modda olması**\n",
    "* **Bu üç kavramı görüntü işlerken çok kullanacağız.**"
   ]
  },
  {
   "cell_type": "code",
   "execution_count": 4,
   "metadata": {},
   "outputs": [],
   "source": [
    "# Bu üç renk uzayını birbirine dönüştürebiliyoruz bunu yapmak için cv2.cvtcolor fonksiyonunu kullanıyoruz.\n",
    "\n",
    "import cv2\n",
    "\n",
    "img_bgr = cv2.imread(\"veriler/klon.jpg\")\n",
    "\n",
    "# Görüntümüz şuan BGR şeklinde ve biz bunu RGB'ye dönüştürelim:\n",
    "img_rgb = cv2.cvtColor(img, cv2.COLOR_BGR2RGB)\n",
    "\n",
    "# Görüntümüz şuan BGR şeklinde ve biz bunu HSV'ye dönüştürelim:\n",
    "img_hsv = cv2.cvtColor(img, cv2.COLOR_BGR2HSV)\n",
    "\n",
    "# Görüntümüz şuan BGR şeklinde ve biz bunu grayscale'e dönüştürelim:\n",
    "img_gray = cv2.cvtColor(img, cv2.COLOR_BGR2GRAY)\n",
    "\n",
    "cv2.imshow(\"Klon BGR\", img_bgr)\n",
    "cv2.imshow(\"Klon RGB\", img_rgb)\n",
    "cv2.imshow(\"Klon HSV\", img_hsv)\n",
    "cv2.imshow(\"Klon GRAY\", img_gray)\n",
    "\n",
    "cv2.waitKey(0)\n",
    "cv2.destroyAllWindows()"
   ]
  },
  {
   "cell_type": "code",
   "execution_count": null,
   "metadata": {},
   "outputs": [],
   "source": []
  }
 ],
 "metadata": {
  "kernelspec": {
   "display_name": "Python 3",
   "language": "python",
   "name": "python3"
  },
  "language_info": {
   "codemirror_mode": {
    "name": "ipython",
    "version": 3
   },
   "file_extension": ".py",
   "mimetype": "text/x-python",
   "name": "python",
   "nbconvert_exporter": "python",
   "pygments_lexer": "ipython3",
   "version": "3.7.4"
  },
  "toc": {
   "base_numbering": 1,
   "nav_menu": {},
   "number_sections": true,
   "sideBar": true,
   "skip_h1_title": false,
   "title_cell": "Table of Contents",
   "title_sidebar": "Contents",
   "toc_cell": false,
   "toc_position": {},
   "toc_section_display": true,
   "toc_window_display": false
  }
 },
 "nbformat": 4,
 "nbformat_minor": 4
}
