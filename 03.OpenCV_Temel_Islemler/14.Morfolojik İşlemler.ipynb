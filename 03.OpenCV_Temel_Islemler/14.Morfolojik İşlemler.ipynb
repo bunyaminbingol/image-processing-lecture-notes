{
 "cells": [
  {
   "cell_type": "markdown",
   "metadata": {},
   "source": [
    "Morfolojik görüntü işleme şekillerin biçimsel yapısı ile ilgilenerek nesneleri ayırt etmemize ve gruplayabilmemize olanak sağlar. Yöntem gri seviye görüntüler üzerinde de çalışsa da genellikle siyah-beyaz (ikili) görüntüler üzerinde kullanılır. Morfolojik filtreler genelde iki temel işlemden türetilmiştir. Bunlar erosion ( aşındırma ) ve dilation ( genişletme ) işlemleridir. Aşındırma ikili bir görüntüde bulunan nesnelerin boyutunu seçilen yapısal elemente bağlı olarak küçültürken, genişletme nesnenin alanını artırır. Bu işlemlerden erosion işlemi birbirine ince bir gürültü ile bağlanmış iki veya daha fazla nesneyi birbirinden ayırmak için kullanılırken, dilation işlemi ise aynı nesnenin bir gürültü ile ince bir şekilde bölünerek ayrı iki nesne gibi görünmesini engellemek için kullanılır.\n",
    "\n",
    "Özellikle plaka tanıma, harf tanıma, parmak izi tanıma gibi işlemlerde kullanılarak gürültülerin etkisi azaltılır.\n",
    "\n",
    "Harf olarak düşünürsek, iteration'da harf kalınlığı azalıyor, dilation'da ise harf kalınlığı artıyor.\n",
    "\n",
    "https://docs.opencv.org/master/d9/d61/tutorial_py_morphological_ops.html"
   ]
  },
  {
   "cell_type": "code",
   "execution_count": 1,
   "metadata": {},
   "outputs": [],
   "source": [
    "import cv2\n",
    "import numpy as np\n",
    "\n",
    "img = cv2.imread(\"veriler/j.png\", 0)\n",
    "img1 = cv2.imread(\"veriler/helikopter2.jpg\", 0)"
   ]
  },
  {
   "cell_type": "code",
   "execution_count": 31,
   "metadata": {},
   "outputs": [],
   "source": [
    "# İterasyon İşlemi\n",
    "\n",
    "kernel = np.ones((5,5), np.uint8) # birlerden oluşan matris uygulayacağız, birlerden oluşan matrisi resim üzerine getirerek bozduracağız.\n",
    "\n",
    "# Erezyon işlemi\n",
    "erosion = cv2.erode(img, kernel, iterations = 1)\n",
    "\n",
    "#Dilation işlemi\n",
    "dilation = cv2.dilate(img, kernel, iterations = 1)\n",
    "\n",
    "#Opening işlemi\n",
    "opening = cv2.morphologyEx(img, cv2.MORPH_OPEN, kernel)\n",
    "\n",
    "#Gradient işlemi\n",
    "gradient = cv2.morphologyEx(img, cv2.MORPH_GRADIENT, kernel)\n",
    "\n",
    "cv2.imshow(\"Original\", img)\n",
    "cv2.imshow(\"Erosion\", erosion)\n",
    "cv2.imshow(\"Dilation\", dilation)\n",
    "cv2.imshow(\"Opening\", opening)\n",
    "cv2.imshow(\"gradient\", gradient)\n",
    "cv2.waitKey(0)\n",
    "cv2.destroyAllWindows()"
   ]
  },
  {
   "cell_type": "code",
   "execution_count": 30,
   "metadata": {},
   "outputs": [],
   "source": [
    "# İterasyon İşlemi\n",
    "\n",
    "kernel = np.ones((5,5), np.uint8) # birlerden oluşan matris uygulayacağız, birlerden oluşan matrisi resim üzerine getirerek bozduracağız.\n",
    "\n",
    "# Erezyon işlemi\n",
    "erosion = cv2.erode(img1, kernel, iterations = 1)\n",
    "\n",
    "#Dilation işlemi\n",
    "dilation = cv2.dilate(img1, kernel, iterations = 1)\n",
    "\n",
    "#Opening işlemi\n",
    "opening = cv2.morphologyEx(img1, cv2.MORPH_OPEN, kernel)\n",
    "\n",
    "#Closing işlemi\n",
    "closing = cv2.morphologyEx(img1, cv2.MORPH_CLOSE, kernel)\n",
    "\n",
    "#Gradient işlemi\n",
    "gradient = cv2.morphologyEx(img1, cv2.MORPH_GRADIENT, kernel)\n",
    "\n",
    "cv2.imshow(\"Original\", img1)\n",
    "cv2.imshow(\"Erosion\", erosion)\n",
    "cv2.imshow(\"Dilation\", dilation)\n",
    "cv2.imshow(\"Opening\", opening)\n",
    "cv2.imshow(\"Closing\", closing)\n",
    "cv2.imshow(\"gradient\", gradient)\n",
    "cv2.waitKey(0)\n",
    "cv2.destroyAllWindows()"
   ]
  },
  {
   "cell_type": "code",
   "execution_count": null,
   "metadata": {},
   "outputs": [],
   "source": []
  }
 ],
 "metadata": {
  "kernelspec": {
   "display_name": "Python 3",
   "language": "python",
   "name": "python3"
  },
  "language_info": {
   "codemirror_mode": {
    "name": "ipython",
    "version": 3
   },
   "file_extension": ".py",
   "mimetype": "text/x-python",
   "name": "python",
   "nbconvert_exporter": "python",
   "pygments_lexer": "ipython3",
   "version": "3.7.10"
  },
  "toc": {
   "base_numbering": 1,
   "nav_menu": {},
   "number_sections": true,
   "sideBar": true,
   "skip_h1_title": false,
   "title_cell": "Table of Contents",
   "title_sidebar": "Contents",
   "toc_cell": false,
   "toc_position": {},
   "toc_section_display": true,
   "toc_window_display": false
  }
 },
 "nbformat": 4,
 "nbformat_minor": 4
}
