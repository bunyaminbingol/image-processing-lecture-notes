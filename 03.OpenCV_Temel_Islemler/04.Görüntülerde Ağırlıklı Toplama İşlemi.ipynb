{
 "cells": [
  {
   "cell_type": "markdown",
   "metadata": {},
   "source": [
    "* **Ağırlıklı toplama işlemi, görüntüleri belirli yoğunluklarda birbirleri üzerine ekleme işlemine verilen addır.**\n",
    "* **Bu işlemi matematiksel olarak gösterecek olursak;**\n",
    "> **f(x,y) = x*a + y*b + c**"
   ]
  },
  {
   "cell_type": "code",
   "execution_count": 1,
   "metadata": {},
   "outputs": [],
   "source": [
    "import cv2\n",
    "import numpy as np"
   ]
  },
  {
   "cell_type": "code",
   "execution_count": 2,
   "metadata": {},
   "outputs": [],
   "source": [
    "# İlk resmimizi oluşturalım, resim bir tuval lacak ve ortasında daire olacak:\n",
    "circle = np.zeros((512,512,3), np.uint8) + 255 # beyaz tuvali oluşturduk\n",
    "cv2.circle(circle, (256,256), 60, (255,0,0), -1) # bu tuvalin merkezine bir daire(circle) çiziyoruz.\n",
    "\n",
    "# İlk resmimizi oluşturalım, resim bir tuval lacak ve ortasında dikdörtgen olacak:\n",
    "rectangle = np.zeros((512,512,3), np.uint8) + 255 # beyaz tuvali oluşturduk\n",
    "cv2.rectangle(rectangle, (150,150), (350,350), (0,0,255), -1)\n",
    "\n",
    "dst = cv2.addWeighted(circle, 0.7, rectangle, 0.3, 0) # resim değişkeninden sonraki parametrelere girdiğimiz değerler diğer resmin yüzde kaçını ekleyeceğiz onu belirliyoruz. Son parametre formülde olan sabit değer \n",
    "\n",
    "cv2.imshow(\"Circle\", circle)\n",
    "cv2.imshow(\"Rectangle\", rectangle)\n",
    "cv2.imshow(\"Dst\", dst)\n",
    "\n",
    "cv2.waitKey(0)\n",
    "cv2.destroyAllWindows()"
   ]
  },
  {
   "cell_type": "code",
   "execution_count": null,
   "metadata": {},
   "outputs": [],
   "source": []
  }
 ],
 "metadata": {
  "kernelspec": {
   "display_name": "Python 3",
   "language": "python",
   "name": "python3"
  },
  "language_info": {
   "codemirror_mode": {
    "name": "ipython",
    "version": 3
   },
   "file_extension": ".py",
   "mimetype": "text/x-python",
   "name": "python",
   "nbconvert_exporter": "python",
   "pygments_lexer": "ipython3",
   "version": "3.7.4"
  },
  "toc": {
   "base_numbering": 1,
   "nav_menu": {},
   "number_sections": true,
   "sideBar": true,
   "skip_h1_title": false,
   "title_cell": "Table of Contents",
   "title_sidebar": "Contents",
   "toc_cell": false,
   "toc_position": {},
   "toc_section_display": true,
   "toc_window_display": false
  }
 },
 "nbformat": 4,
 "nbformat_minor": 4
}
