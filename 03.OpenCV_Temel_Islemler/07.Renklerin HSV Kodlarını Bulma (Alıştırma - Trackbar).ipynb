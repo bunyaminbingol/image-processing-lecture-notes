{
 "cells": [
  {
   "cell_type": "markdown",
   "metadata": {},
   "source": [
    "* **Bu uygulamada, wabcam'den aldığımız görüntüdeki renkleri HSV renk uzayına dönüştüreceğiz ve daha sonra bir alt ve üst değer belirleyerek ten rengimizi görüntüdeki diğer renklerden ayıracağız.**\n",
    "* **Bu uygulamayı yapmamızın amacı her zaman HSV renk kodlarını bulmamız kolay olmuyor ve bu uygulama sayesinde objelerin renk kodlarını bulmamız kolaylaşacak.**"
   ]
  },
  {
   "cell_type": "code",
   "execution_count": 1,
   "metadata": {},
   "outputs": [],
   "source": [
    "import cv2\n",
    "import numpy as np"
   ]
  },
  {
   "cell_type": "code",
   "execution_count": 2,
   "metadata": {},
   "outputs": [
    {
     "ename": "AttributeError",
     "evalue": "'cv2.VideoCapture' object has no attribute 'releasee'",
     "output_type": "error",
     "traceback": [
      "\u001b[1;31m---------------------------------------------------------------------------\u001b[0m",
      "\u001b[1;31mAttributeError\u001b[0m                            Traceback (most recent call last)",
      "\u001b[1;32m<ipython-input-2-aa0b89280888>\u001b[0m in \u001b[0;36m<module>\u001b[1;34m\u001b[0m\n\u001b[0;32m     52\u001b[0m         \u001b[1;32mbreak\u001b[0m\u001b[1;33m\u001b[0m\u001b[1;33m\u001b[0m\u001b[0m\n\u001b[0;32m     53\u001b[0m \u001b[1;33m\u001b[0m\u001b[0m\n\u001b[1;32m---> 54\u001b[1;33m \u001b[0mcap\u001b[0m\u001b[1;33m.\u001b[0m\u001b[0mreleasee\u001b[0m\u001b[1;33m(\u001b[0m\u001b[1;33m)\u001b[0m\u001b[1;33m\u001b[0m\u001b[1;33m\u001b[0m\u001b[0m\n\u001b[0m\u001b[0;32m     55\u001b[0m \u001b[0mcv2\u001b[0m\u001b[1;33m.\u001b[0m\u001b[0mdestroyAllWindows\u001b[0m\u001b[1;33m(\u001b[0m\u001b[1;33m)\u001b[0m\u001b[1;33m\u001b[0m\u001b[1;33m\u001b[0m\u001b[0m\n",
      "\u001b[1;31mAttributeError\u001b[0m: 'cv2.VideoCapture' object has no attribute 'releasee'"
     ]
    }
   ],
   "source": [
    "cap = cv2.VideoCapture(0) # İlk başta webcam'den görüntüyü almamız lazım\n",
    "\n",
    "# Şimdi TrackBar'ı oluşturalım:\n",
    "\n",
    "def nothing(x):\n",
    "    pass\n",
    "\n",
    "# Trracbar'ın boyunutunu ve ismini oluşturalım\n",
    "cv2.namedWindow(\"Trackbar\")\n",
    "cv2.resizeWindow(\"Trackbar\", 500, 500) # Pencereleri boyutlandırmak için resizeWindow fonksiyonunu kullanmamız lazım. \n",
    "\n",
    "# Trackbar'ın kızaklarını oluşturuyoruz\n",
    "cv2.createTrackbar(\"Lower - H\", \"Trackbar\", 0, 180, nothing)\n",
    "cv2.createTrackbar(\"Lower - S\", \"Trackbar\", 0, 255, nothing)\n",
    "cv2.createTrackbar(\"Lower - V\", \"Trackbar\", 0, 255, nothing)\n",
    "\n",
    "cv2.createTrackbar(\"Upper - H\", \"Trackbar\", 0, 180, nothing)\n",
    "cv2.createTrackbar(\"Upper - S\", \"Trackbar\", 0, 255, nothing)\n",
    "cv2.createTrackbar(\"Upper - V\", \"Trackbar\", 0, 255, nothing)\n",
    "\n",
    "# Alt(Lower) değerler sıfırdan başlayabilir ama üst(Upper) değerlerimin sıfırdan başlamasını istemiyorum, onların varsayılan değerlerini giriyoruz\n",
    "cv2.setTrackbarPos(\"Upper - H\", \"Trackbar\", 180)\n",
    "cv2.setTrackbarPos(\"Upper - S\", \"Trackbar\", 255)\n",
    "cv2.setTrackbarPos(\"Upper - V\", \"Trackbar\", 255)\n",
    "\n",
    "# Bir while döngüsü ile kameradan görüntüleri alayım ve tracbarın değişimlerini de tek tek ayarlayalım.\n",
    "while True:\n",
    "    ret, frame = cap.read()\n",
    "    frame = cv2.flip(frame, 1) # Y eksenine göre yansımasını alıyoruz\n",
    "    \n",
    "    frame_hsv = cv2.cvtColor(frame, cv2.COLOR_BGR2HSV)\n",
    "    \n",
    "    # Tek tek trackbar'daki pozisyonları alalım:\n",
    "    lower_h = cv2.getTrackbarPos(\"Lower - H\", \"Trackbar\")\n",
    "    lower_s = cv2.getTrackbarPos(\"Lower - S\", \"Trackbar\")\n",
    "    lower_v = cv2.getTrackbarPos(\"Lower - V\", \"Trackbar\")\n",
    "    \n",
    "    upper_h = cv2.getTrackbarPos(\"Upper - H\", \"Trackbar\")\n",
    "    upper_s = cv2.getTrackbarPos(\"Upper - S\", \"Trackbar\")\n",
    "    upper_v = cv2.getTrackbarPos(\"Upper - V\", \"Trackbar\")\n",
    "    \n",
    "    lower_color = np.array([lower_h,lower_s,lower_v])\n",
    "    upper_color = np.array([upper_h,upper_s,upper_v])\n",
    "    \n",
    "    # mask uygulayacağız:\n",
    "    mask = cv2.inRange(frame_hsv, lower_color, upper_color)\n",
    "    \n",
    "    cv2.imshow(\"Orginal\", frame)\n",
    "    cv2.imshow(\"Mask\", mask)\n",
    "    \n",
    "    if cv2.waitKey(20) & 0xFF == ord(\"q\"):\n",
    "        break\n",
    "        \n",
    "cap.releasee()\n",
    "cv2.destroyAllWindows()"
   ]
  },
  {
   "cell_type": "code",
   "execution_count": null,
   "metadata": {},
   "outputs": [],
   "source": []
  }
 ],
 "metadata": {
  "kernelspec": {
   "display_name": "Python 3",
   "language": "python",
   "name": "python3"
  },
  "language_info": {
   "codemirror_mode": {
    "name": "ipython",
    "version": 3
   },
   "file_extension": ".py",
   "mimetype": "text/x-python",
   "name": "python",
   "nbconvert_exporter": "python",
   "pygments_lexer": "ipython3",
   "version": "3.7.4"
  },
  "toc": {
   "base_numbering": 1,
   "nav_menu": {},
   "number_sections": true,
   "sideBar": true,
   "skip_h1_title": false,
   "title_cell": "Table of Contents",
   "title_sidebar": "Contents",
   "toc_cell": false,
   "toc_position": {},
   "toc_section_display": true,
   "toc_window_display": false
  }
 },
 "nbformat": 4,
 "nbformat_minor": 4
}
