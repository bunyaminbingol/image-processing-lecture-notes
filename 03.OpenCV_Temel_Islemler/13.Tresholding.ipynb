{
 "cells": [
  {
   "cell_type": "markdown",
   "metadata": {},
   "source": [
    "**En basitinden başlayacak olursak elimizde belirli bir değer olsun, görüntünün seçtiğimiz noktasındaki değeri elimizdeki değerden büyükse beyaz küçükse siyah olarak atanması gerçekleştirilir. Bu işlem için cv2.threshold fonksiyonunu kullanmamız gerekmektedir. Görüntümüzü eşikleme işlemine sokmadan önce görüntümüzün renk uzayını gri renk uzayına çevirmemiz gerekmektedir, fonksiyonun aldığı ilk girdi gri uzaydaki görüntümüzdür. İkinci girdi ise istediğimiz eşik değeridir, yani pixel değerlerini sınıflandırmak için kullanacağımız değerdir ve 127 global değerdir. Üçüncü girdi ise maksimum değerdir yani pixel değeri girdiğimiz eşik değerinden fazlaysa o pixele atanacak değerdir. Opencv kütüphanesi farkı eşikleme türlerini bize sunar, dördüncü parametre olarak da bu türlerden birisini yazarız. Bazıları**\n",
    "\n",
    "* THRESH_BINARY\n",
    "* THRESH_BINARY_INV\n",
    "* THRESH_TRUNC\n",
    "* THRESH_TOZERO\n",
    "* THRESH_TOZERO_INV"
   ]
  },
  {
   "cell_type": "code",
   "execution_count": 2,
   "metadata": {},
   "outputs": [],
   "source": [
    "import cv2\n",
    "import numpy as np\n",
    "from matplotlib import pyplot as plt\n",
    "\n",
    "img = cv2.imread(\"veriler/helikopter2.jpg\", 0) # resmimizi siyah beyaz hale getiriyoruz.\n",
    "img1 = cv2.imread(\"veriler/paralar.png\", 0)\n",
    "\n",
    "# Birinci yöntemimiz \n",
    "ret, th1 = cv2.threshold(img, 85, 250, cv2.THRESH_BINARY)\n",
    "th2 = cv2.adaptiveThreshold(img, 255, cv2.ADAPTIVE_THRESH_MEAN_C, cv2.THRESH_BINARY, 11, 2)\n",
    "th3 = cv2.adaptiveThreshold(img, 255, cv2.ADAPTIVE_THRESH_GAUSSIAN_C, cv2.THRESH_BINARY, 11, 2)\n",
    "ret, th4 = cv2.threshold(img, 85, 250, cv2.THRESH_BINARY)\n",
    "ret, th5 = cv2.threshold(img, 85, 250, cv2.THRESH_TRUNC)\n",
    "ret, th6 = cv2.threshold(img, 85, 250, cv2.THRESH_TOZERO)\n",
    "ret, th7 = cv2.threshold(img, 85,250, cv2.THRESH_BINARY+cv2.THRESH_TRIANGLE)\n",
    "ret, th8 = cv2.threshold(img1, 85,250, cv2.THRESH_BINARY+cv2.THRESH_TRIANGLE)\n",
    "\n",
    "cv2.imshow(\"Image\", img)\n",
    "cv2.imshow(\"Image-th1\", th1)\n",
    "cv2.imshow(\"Image-th2\", th2)\n",
    "cv2.imshow(\"Image-th3\", th3)\n",
    "cv2.imshow(\"Image-th4\", th4)\n",
    "cv2.imshow(\"Image-th5\", th5)\n",
    "cv2.imshow(\"Image-th6\", th6)\n",
    "cv2.imshow(\"Image-th7\", th7)\n",
    "cv2.imshow(\"Image-th7\", th8)\n",
    "cv2.waitKey(0)\n",
    "cv2.destroyAllWindows()"
   ]
  },
  {
   "cell_type": "markdown",
   "metadata": {},
   "source": [
    "# Image Segmentation using K-means"
   ]
  },
  {
   "cell_type": "code",
   "execution_count": 12,
   "metadata": {},
   "outputs": [],
   "source": [
    "import numpy as np\n",
    "import cv2 as cv\n",
    "img = cv.imread('veriler/helikopter.jpg')\n",
    "Z = img.reshape((-1,3))\n",
    "# convert to np.float32\n",
    "Z = np.float32(Z)\n",
    "# define criteria, number of clusters(K) and apply kmeans()\n",
    "criteria = (cv.TERM_CRITERIA_EPS + cv.TERM_CRITERIA_MAX_ITER, 10, 1.0)\n",
    "K = 2\n",
    "ret,label,center=cv.kmeans(Z,K,None,criteria,10,cv.KMEANS_RANDOM_CENTERS)\n",
    "# Now convert back into uint8, and make original image\n",
    "center = np.uint8(center)\n",
    "res = center[label.flatten()]\n",
    "res2 = res.reshape((img.shape))\n",
    "cv.imshow('orginal',img)\n",
    "cv.imshow('res2',res2)\n",
    "cv.waitKey(0)\n",
    "cv.destroyAllWindows()"
   ]
  },
  {
   "cell_type": "code",
   "execution_count": null,
   "metadata": {},
   "outputs": [],
   "source": []
  }
 ],
 "metadata": {
  "kernelspec": {
   "display_name": "Python 3",
   "language": "python",
   "name": "python3"
  },
  "language_info": {
   "codemirror_mode": {
    "name": "ipython",
    "version": 3
   },
   "file_extension": ".py",
   "mimetype": "text/x-python",
   "name": "python",
   "nbconvert_exporter": "python",
   "pygments_lexer": "ipython3",
   "version": "3.7.10"
  },
  "toc": {
   "base_numbering": 1,
   "nav_menu": {},
   "number_sections": true,
   "sideBar": true,
   "skip_h1_title": false,
   "title_cell": "Table of Contents",
   "title_sidebar": "Contents",
   "toc_cell": false,
   "toc_position": {},
   "toc_section_display": true,
   "toc_window_display": false
  }
 },
 "nbformat": 4,
 "nbformat_minor": 4
}
