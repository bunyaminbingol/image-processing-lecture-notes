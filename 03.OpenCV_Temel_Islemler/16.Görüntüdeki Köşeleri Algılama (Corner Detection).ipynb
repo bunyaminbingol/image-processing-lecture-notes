{
 "cells": [
  {
   "cell_type": "code",
   "execution_count": 21,
   "metadata": {},
   "outputs": [],
   "source": [
    "import cv2\n",
    "import numpy as np\n",
    "\n",
    "img1 = cv2.imread(\"veriler/text.png\")\n",
    "img = cv2.imread(\"veriler/contour.png\")"
   ]
  },
  {
   "cell_type": "code",
   "execution_count": 22,
   "metadata": {},
   "outputs": [],
   "source": [
    "gray = cv2.cvtColor(img,cv2.COLOR_BGR2GRAY) # Resmimizi gri hale çeviriyoruz.\n",
    "gray = np.float32(gray) # Resmimizin köşelerini algılamak için veriyi Float32 haline çeviriyoruz.\n",
    "\n",
    "corners = cv2.goodFeaturesToTrack(gray, 3, 0.01, 10)\n",
    "# 1. Parametre max köşe sayısı\n",
    "# 2. Parametre kalite değeri 0.01 deneysel bir değerdir.\n",
    "# 3. Parametre köşeler arası min mesafe değeridir. \n",
    "\n",
    "corners = np.int0(corners) # Köşeleri çizmemiz için float sayılar kullanamayız int sayılar kullanmamız lazım, bunun için dönüşüm yapıyoruz.\n",
    "\n",
    "for corner in corners: # Şimdi ise her bir köşeyei çember içerisine alalım.\n",
    "    x,y = corner.ravel() # x,y kordinatı çemberin merkezi ve bu merkeze ulaşmak için tek bir satır haline getirmemiz lazım\n",
    "    cv2.circle(img,(x,y), 3, (0,0,255), -1)\n",
    "\n",
    "cv2.imshow(\"Image corner\", img)\n",
    "cv2.waitKey(0)\n",
    "cv2.destroyAllWindows()"
   ]
  },
  {
   "cell_type": "code",
   "execution_count": null,
   "metadata": {},
   "outputs": [],
   "source": []
  }
 ],
 "metadata": {
  "kernelspec": {
   "display_name": "Python 3",
   "language": "python",
   "name": "python3"
  },
  "language_info": {
   "codemirror_mode": {
    "name": "ipython",
    "version": 3
   },
   "file_extension": ".py",
   "mimetype": "text/x-python",
   "name": "python",
   "nbconvert_exporter": "python",
   "pygments_lexer": "ipython3",
   "version": "3.7.4"
  },
  "toc": {
   "base_numbering": 1,
   "nav_menu": {},
   "number_sections": true,
   "sideBar": true,
   "skip_h1_title": false,
   "title_cell": "Table of Contents",
   "title_sidebar": "Contents",
   "toc_cell": false,
   "toc_position": {},
   "toc_section_display": true,
   "toc_window_display": false
  }
 },
 "nbformat": 4,
 "nbformat_minor": 4
}
