{
 "cells": [
  {
   "cell_type": "code",
   "execution_count": 1,
   "metadata": {},
   "outputs": [],
   "source": [
    "import cv2\n",
    "import numpy as np"
   ]
  },
  {
   "cell_type": "markdown",
   "metadata": {},
   "source": [
    "**Piksellerin içerisinde 3 adet renk saklıdır. Kırmızı, Mavi ve Yeşil olmak üzere her bir piksel 3 adet rengi tutar. Örnek resmimizin herhangi bir pikselindeki renk değerlerine erişeceğiz:**"
   ]
  },
  {
   "cell_type": "code",
   "execution_count": 12,
   "metadata": {},
   "outputs": [
    {
     "name": "stdout",
     "output_type": "stream",
     "text": [
      "Resmin Boyutu ve Kanal Sayısı:  (426, 640, 3)\n",
      "\n",
      "150'ye 200 BGR değeri:  [158 153 144]\n",
      "205'e 250 BGR değeri:  [226 220 209]\n",
      "426'ya 640 BGR değeri:  [87 82 83]\n"
     ]
    }
   ],
   "source": [
    "img = cv2.imread(\"veriler/klon.jpg\")\n",
    "\n",
    "dimension = img.shape   # Resmimin boyutunu öğreniyorum.\n",
    "print(\"Resmin Boyutu ve Kanal Sayısı: \", dimension)\n",
    "\n",
    "color = img[150,200]  # color 150'ye 200 pikselindeki renk değerini tutusun. \n",
    "print(\"\\n150'ye 200 BGR değeri: \", color)\n",
    "color = img[205,250]  \n",
    "print(\"205'e 250 BGR değeri: \", color)\n",
    "color = img[425,639]  \n",
    "print(\"426'ya 640 BGR değeri: \", color)\n",
    "\n",
    "cv2.imshow(\"Klon Asker\", img)\n",
    "cv2.waitKey(0)\n",
    "cv2.destroyAllWindows()"
   ]
  },
  {
   "cell_type": "markdown",
   "metadata": {},
   "source": [
    "**Herhangi bir kordinattaki sadece mavi(B), yeşil(G) ve kırmızı(R) değerine erişmek istiyorsam ne yapmalıyım ?**"
   ]
  },
  {
   "cell_type": "code",
   "execution_count": 10,
   "metadata": {},
   "outputs": [
    {
     "name": "stdout",
     "output_type": "stream",
     "text": [
      "(420,500) konumundaki Mavi değeri: 140\n",
      "(420,500) konumundaki Mavi değeri: 134\n",
      "(420,500) konumundaki Mavi değeri: 123\n"
     ]
    }
   ],
   "source": [
    "img = cv2.imread(\"veriler/klon.jpg\")\n",
    "\n",
    "# 420'ye 500'de ki mavi değerini bulalım, bize color değerinde bir liste veriyor ve bu liste BGR değerleri\n",
    "# yani biz sadece Blue değerini almak istiyorsak listenin 0'ncı, Yeşil için 1'nci, Kırmızı için 2'nci indexi almamız lazım\n",
    "blue = img[420,500, 0] \n",
    "print(\"(420,500) konumundaki Mavi değeri:\", blue)\n",
    "green = img[420,500, 1] \n",
    "print(\"(420,500) konumundaki Mavi değeri:\", green)\n",
    "red = img[420,500, 2] \n",
    "print(\"(420,500) konumundaki Mavi değeri:\", red)\n",
    "\n",
    "cv2.imshow(\"Klon Asker\", img)\n",
    "cv2.waitKey(0) \n",
    "cv2.destroyAllWindows()"
   ]
  },
  {
   "cell_type": "markdown",
   "metadata": {},
   "source": [
    "**Herhangi bir kordinattaki BGR değerlerine tek te ulaştık, şimdi ise bu değerleri değiştirelim:**"
   ]
  },
  {
   "cell_type": "code",
   "execution_count": 15,
   "metadata": {},
   "outputs": [
    {
     "name": "stdout",
     "output_type": "stream",
     "text": [
      "(420,500) konumundaki Mavi değeri değiştirdim ve yeni değer: 250\n",
      "------------------------------------------------\n",
      "blue1'in ilk değeri:  158\n",
      "blue1'in yeni değeri:  172\n"
     ]
    }
   ],
   "source": [
    "img = cv2.imread(\"veriler/klon.jpg\")\n",
    "\n",
    "img[420,500, 0] = 250  # yeni değeri atıyoruz.\n",
    "print(\"(420,500) konumundaki Mavi değeri değiştirdim ve yeni değer:\", img[420,500, 0])\n",
    "print(\"------------------------------------------------\")\n",
    "\n",
    "# Bu işlemi bir fonksiyonla da yapabiliriz:\n",
    "blue1 = img.item(150,200,0) # ilk başta buraya bir atama yapıyoruz, \n",
    "print(\"blue1'in ilk değeri: \", blue1)\n",
    "\n",
    "img.itemset((150,200,0), 172) # Birinci değer hangi konumdaki hangi rengi değiştirmek istiyorsak onu giriyoruz, ikinci değer ise rengin yeni değerini giriyoruz.\n",
    "print(\"blue1'in yeni değeri: \", img[150,200,0])\n",
    "\n",
    "cv2.imshow(\"Klon Asker\", img)\n",
    "cv2.waitKey(0) \n",
    "cv2.destroyAllWindows()"
   ]
  },
  {
   "cell_type": "code",
   "execution_count": null,
   "metadata": {},
   "outputs": [],
   "source": []
  }
 ],
 "metadata": {
  "kernelspec": {
   "display_name": "Python 3",
   "language": "python",
   "name": "python3"
  },
  "language_info": {
   "codemirror_mode": {
    "name": "ipython",
    "version": 3
   },
   "file_extension": ".py",
   "mimetype": "text/x-python",
   "name": "python",
   "nbconvert_exporter": "python",
   "pygments_lexer": "ipython3",
   "version": "3.7.4"
  },
  "toc": {
   "base_numbering": 1,
   "nav_menu": {},
   "number_sections": true,
   "sideBar": true,
   "skip_h1_title": false,
   "title_cell": "Table of Contents",
   "title_sidebar": "Contents",
   "toc_cell": false,
   "toc_position": {},
   "toc_section_display": true,
   "toc_window_display": false
  }
 },
 "nbformat": 4,
 "nbformat_minor": 4
}
