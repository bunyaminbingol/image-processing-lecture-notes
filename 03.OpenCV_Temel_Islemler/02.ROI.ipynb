{
 "cells": [
  {
   "cell_type": "markdown",
   "metadata": {},
   "source": [
    "* **ROI açılımı --> Region Of Interest yani türkçesi \"ilgi alanı\", görüntü üzerinde ilgilendiğimiz alan diyebiliriz. Mesela bir resimde yüz ile ilgileniyoruz ve resimdeki ilgi alanımız yani ROI'miz yüzdür. Algılama algoritmlarında yüzün kordinatlarını buluruz ve daha sonra bu yüzü tüm resimden ayırırız ve ROI'yi elde etmiş oluruz.**\n",
    "* **ROI'nin önemi aslında bir göz, yüz veya bizden istenen bölgenin işlenmesi isteniyorsa tüm resmi değilde sadece o bölgeyi alırız ve o bölgeyi işleriz bu da bizim işimizi kolaylaştırır.**"
   ]
  },
  {
   "cell_type": "code",
   "execution_count": 2,
   "metadata": {},
   "outputs": [],
   "source": [
    "import cv2\n",
    "import numpy as np "
   ]
  },
  {
   "cell_type": "code",
   "execution_count": 9,
   "metadata": {},
   "outputs": [],
   "source": [
    "# Klon askerin kafasını ROI alalım, amacımız bu alanı tüm resimden ayırmak.\n",
    "\n",
    "img = cv2.imread(\"veriler/klon.jpg\")\n",
    "\n",
    "roi = img[30:200, 200:400] # Birinci dikey eksen(y) ikincisi ise yatay eksen(x) leri tarıyorum.\n",
    "\n",
    "cv2.imshow(\"Klon Asker\", img)\n",
    "cv2.imshow(\"ROI\", roi)\n",
    "cv2.waitKey(0)\n",
    "cv2.destroyAllWindows()"
   ]
  },
  {
   "cell_type": "code",
   "execution_count": null,
   "metadata": {},
   "outputs": [],
   "source": []
  }
 ],
 "metadata": {
  "kernelspec": {
   "display_name": "Python 3",
   "language": "python",
   "name": "python3"
  },
  "language_info": {
   "codemirror_mode": {
    "name": "ipython",
    "version": 3
   },
   "file_extension": ".py",
   "mimetype": "text/x-python",
   "name": "python",
   "nbconvert_exporter": "python",
   "pygments_lexer": "ipython3",
   "version": "3.7.4"
  },
  "toc": {
   "base_numbering": 1,
   "nav_menu": {},
   "number_sections": true,
   "sideBar": true,
   "skip_h1_title": false,
   "title_cell": "Table of Contents",
   "title_sidebar": "Contents",
   "toc_cell": false,
   "toc_position": {},
   "toc_section_display": true,
   "toc_window_display": false
  }
 },
 "nbformat": 4,
 "nbformat_minor": 4
}
