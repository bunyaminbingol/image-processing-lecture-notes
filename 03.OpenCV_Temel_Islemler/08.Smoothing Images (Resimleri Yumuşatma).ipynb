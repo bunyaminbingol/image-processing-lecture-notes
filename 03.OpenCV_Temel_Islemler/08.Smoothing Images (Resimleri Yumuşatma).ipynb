{
 "cells": [
  {
   "cell_type": "markdown",
   "metadata": {},
   "source": [
    "* **Bu kısımda resimler üzerindeki gürültüleri azaltmayı, pürüzleri azaltmayı ve resimleri daha yumuşak bir hale getirmeyi amaçlıyoruz**\n",
    "* **Sırasıyla yöntemleri göreceğiz ve bu yöntemlerin resimler üzerindeki etkilerine bakacağız.**"
   ]
  },
  {
   "cell_type": "code",
   "execution_count": 1,
   "metadata": {},
   "outputs": [],
   "source": [
    "import cv2\n",
    "import numpy as np"
   ]
  },
  {
   "cell_type": "code",
   "execution_count": 3,
   "metadata": {},
   "outputs": [],
   "source": [
    "img_filter = cv2.imread(\"veriler/filter.png\")\n",
    "img_median = cv2.imread(\"veriler/median.png\")\n",
    "img_bilateral = cv2.imread(\"veriler/bilateral.png\")"
   ]
  },
  {
   "cell_type": "code",
   "execution_count": 11,
   "metadata": {},
   "outputs": [],
   "source": [
    "# İlk olarak Blurlama işlemi yapıyoruz.\n",
    "\n",
    "blur = cv2.blur(img_filter, (9,9)) # İkinci parametre ile resmin yumuşama değerini değiştirebiliriz.\n",
    "blur2 = cv2.GaussianBlur(img_filter, (9,9), cv2.BORDER_DEFAULT) # Farklı bir blur fonksiyonunu deniyoruz ve 3. parametrede sınır çizgileri ile alakalı bir değer girmemiz gerekiyor.\n",
    "\n",
    "cv2.imshow(\"Original\", img_filter)\n",
    "cv2.imshow(\"blur\", blur)\n",
    "cv2.imshow(\"blur2\", blur2)\n",
    "cv2.imshow(\"blur_median\", blur_median)\n",
    "\n",
    "cv2.waitKey(0)\n",
    "cv2.destroyAllWindows()"
   ]
  },
  {
   "cell_type": "code",
   "execution_count": 13,
   "metadata": {},
   "outputs": [],
   "source": [
    "# Gürültülü olan resimi medianblur fonksiyonu ile yumuşatma yapıyoruz.\n",
    "\n",
    "blur_median = cv2.medianBlur(img_median, 7) # gireceğimiz parametre değerleri pozitif tek sayılar olması lazım.\n",
    "\n",
    "cv2.imshow(\"Original\", img_median)\n",
    "cv2.imshow(\"blur_median\", blur_median)\n",
    "\n",
    "cv2.waitKey(0)\n",
    "cv2.destroyAllWindows()"
   ]
  },
  {
   "cell_type": "code",
   "execution_count": 15,
   "metadata": {},
   "outputs": [],
   "source": [
    "# Bir de bilateral filtresini uygulayalım\n",
    "\n",
    "blur_bilateral = cv2.bilateralFilter(img_bilateral, 9,95,95) # gireceğimiz parametre değerler piksel dönüşüm değerleridir.\n",
    "\n",
    "cv2.imshow(\"Original\", img_bilateral)\n",
    "cv2.imshow(\"blur_bilateral\", blur_bilateral)\n",
    "\n",
    "cv2.waitKey(0)\n",
    "cv2.destroyAllWindows()"
   ]
  },
  {
   "cell_type": "code",
   "execution_count": null,
   "metadata": {},
   "outputs": [],
   "source": []
  }
 ],
 "metadata": {
  "kernelspec": {
   "display_name": "Python 3",
   "language": "python",
   "name": "python3"
  },
  "language_info": {
   "codemirror_mode": {
    "name": "ipython",
    "version": 3
   },
   "file_extension": ".py",
   "mimetype": "text/x-python",
   "name": "python",
   "nbconvert_exporter": "python",
   "pygments_lexer": "ipython3",
   "version": "3.7.4"
  },
  "toc": {
   "base_numbering": 1,
   "nav_menu": {},
   "number_sections": true,
   "sideBar": true,
   "skip_h1_title": false,
   "title_cell": "Table of Contents",
   "title_sidebar": "Contents",
   "toc_cell": false,
   "toc_position": {},
   "toc_section_display": true,
   "toc_window_display": false
  }
 },
 "nbformat": 4,
 "nbformat_minor": 4
}
